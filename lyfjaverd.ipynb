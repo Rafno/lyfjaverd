{
    "metadata": {
        "kernelspec": {
            "name": "python3",
            "display_name": "Python 3",
            "language": "python"
        },
        "language_info": {
            "name": "python",
            "version": "3.9.2",
            "mimetype": "text/x-python",
            "codemirror_mode": {
                "name": "ipython",
                "version": 3
            },
            "pygments_lexer": "ipython3",
            "nbconvert_exporter": "python",
            "file_extension": ".py"
        }
    },
    "nbformat_minor": 2,
    "nbformat": 4,
    "cells": [
        {
            "cell_type": "markdown",
            "source": [
                "Any urls we may need"
            ],
            "metadata": {
                "azdata_cell_guid": "af5656d4-dd7d-4838-a6de-bbb55b6906f8"
            }
        },
        {
            "cell_type": "code",
            "source": [
                "_BASE_URL = 'https://verd.lyfjastofnun.is/'\r\n",
                "_URL = 'https://verd.lyfjastofnun.is/?pageid=10'"
            ],
            "metadata": {
                "azdata_cell_guid": "8795abca-b3a9-4586-81dd-143b6ffadfff",
                "tags": []
            },
            "outputs": [],
            "execution_count": 86
        },
        {
            "cell_type": "markdown",
            "source": [
                "# **Extract**"
            ],
            "metadata": {
                "azdata_cell_guid": "5270e7f3-66ce-441f-a366-04009d5f5d1c"
            }
        },
        {
            "cell_type": "markdown",
            "source": [
                "Fetch the urls of all excel files, do not get xlsx files that were uploaded due to them being a security issue.\n",
                "\n",
                "https://stackoverflow.com/questions/65250207/pandas-cannot-open-an-excel-xlsx-file"
            ],
            "metadata": {
                "azdata_cell_guid": "5ad4ab76-b5ad-40a7-8250-63141850de53"
            }
        },
        {
            "cell_type": "code",
            "source": [
                "import requests\r\n",
                "import re\r\n",
                "import pandas as pd\r\n",
                "import io\r\n",
                "import html5lib\r\n",
                "from bs4 import BeautifulSoup as bs\r\n",
                "from IPython.display import clear_output\r\n",
                "import platform\r\n",
                "import numpy as np\r\n",
                "import matplotlib as mpl\r\n",
                "import matplotlib.pyplot as plt\r\n",
                "from datetime import datetime"
            ],
            "metadata": {
                "azdata_cell_guid": "f86e9861-e280-4744-b421-aa6f5f2be1a7"
            },
            "outputs": [],
            "execution_count": 87
        },
        {
            "cell_type": "code",
            "source": [
                "r = requests.get(_URL)\r\n",
                "soup = bs(r.text)\r\n",
                "#xlsx\r\n",
                "_links = soup.find_all('a', {'href': re.compile(r'verdskra.*\\.xls$')})"
            ],
            "metadata": {
                "azdata_cell_guid": "8af0a5bb-d276-497d-9eb9-e76f88568273",
                "tags": []
            },
            "outputs": [],
            "execution_count": 88
        },
        {
            "cell_type": "markdown",
            "source": [
                "Iterate through all excel files and add to our dataframe for processing.\n",
                "\n",
                "Skip the first file as it simply explains the columns of the rest of the files."
            ],
            "metadata": {
                "azdata_cell_guid": "5fa3f3ef-41a2-4021-9824-f3e22dd19346"
            }
        },
        {
            "cell_type": "code",
            "source": [
                "appended_data = []\r\n",
                "for index, link in enumerate(_links[1:]):\r\n",
                "    price_link = link.get(\"href\")\r\n",
                "    file_name = re.search('gogn/(.*).xls',price_link).group(1)\r\n",
                "    response = requests.get(_BASE_URL + price_link).content#\r\n",
                "    inc_data = pd.read_excel(response).assign(file=file_name)\r\n",
                "    appended_data.append(inc_data)\r\n",
                "\r\n",
                "data = pd.concat(appended_data)\r\n",
                "data.head(10)"
            ],
            "metadata": {
                "azdata_cell_guid": "17728f2e-3323-4943-ac35-dc6a5605fbb8",
                "tags": []
            },
            "outputs": [
                {
                    "data": {
                        "text/plain": "   Norrænt vörunúmer Lyfjaheitisnúmer        Heiti lyfs Form lyfs Styrkur  \\\n0           379875.0        N05BA0105          Stesolid  eþ-lausn       5   \n1           379883.0        N05BA0105          Stesolid  eþ-lausn      10   \n2            43729.0        N05CD0503           Halcion    töflur   0,125   \n3            48199.0        A03CA0201            Librax    töflur     NaN   \n4            52286.0        N05BA1205  Alprazolam Mylan    töflur    0,25   \n5            52297.0        N05BA1205  Alprazolam Mylan    töflur    0,25   \n6            52309.0        N05BA1205  Alprazolam Mylan    töflur     0,5   \n7            52320.0        N05BA1205  Alprazolam Mylan    töflur     0,5   \n8            52331.0        N05BA1205  Alprazolam Mylan    töflur    0,25   \n9            70203.0        N05CF0107            Imomed  filmhtfl     7,5   \n\n  Styrkeining Magn Magneining  Fj. Pakkninga Pakkning  ...  \\\n0    mg/2,5ml  2,5         ml            5.0     túpa  ...   \n1    mg/2,5ml  2,5         ml            5.0     túpa  ...   \n2          mg   30        stk            1.0   þpakki  ...   \n3         NaN  100        stk            1.0     glas  ...   \n4          mg   20        stk            1.0   þpakki  ...   \n5          mg   50        stk            1.0   þpakki  ...   \n6          mg   20        stk            1.0   þpakki  ...   \n7          mg   50        stk            1.0   þpakki  ...   \n8          mg  100        stk            1.0     glas  ...   \n9          mg   30        stk            1.0   þpakki  ...   \n\n  Skammtur að hámarki fyrir fjölda daga  (100,  30) Heildsöluverð Smásöluverð  \\\n0                                               NaN           NaN         NaN   \n1                                               NaN           NaN         NaN   \n2                                               NaN           NaN         NaN   \n3                                               NaN           NaN         NaN   \n4                                               NaN           NaN         NaN   \n5                                               NaN           NaN         NaN   \n6                                               NaN           NaN         NaN   \n7                                               NaN           NaN         NaN   \n8                                               NaN           NaN         NaN   \n9                                               NaN           NaN         NaN   \n\n  Meðferð Hmagn  Á undanþágulista (1, 0)  DDD  Unnamed: 1 Afskáningardags  \\\n0     NaN   NaN                      NaN  NaN         NaN             NaT   \n1     NaN   NaN                      NaN  NaN         NaN             NaT   \n2     NaN   NaN                      NaN  NaN         NaN             NaT   \n3     NaN   NaN                      NaN  NaN         NaN             NaT   \n4     NaN   NaN                      NaN  NaN         NaN             NaT   \n5     NaN   NaN                      NaN  NaN         NaN             NaT   \n6     NaN   NaN                      NaN  NaN         NaN             NaT   \n7     NaN   NaN                      NaN  NaN         NaN             NaT   \n8     NaN   NaN                      NaN  NaN         NaN             NaT   \n9     NaN   NaN                      NaN  NaN         NaN             NaT   \n\n   Unnamed: 36  \n0          NaN  \n1          NaN  \n2          NaN  \n3          NaN  \n4          NaN  \n5          NaN  \n6          NaN  \n7          NaN  \n8          NaN  \n9          NaN  \n\n[10 rows x 100 columns]",
                        "text/html": "<div>\n<style scoped>\n    .dataframe tbody tr th:only-of-type {\n        vertical-align: middle;\n    }\n\n    .dataframe tbody tr th {\n        vertical-align: top;\n    }\n\n    .dataframe thead th {\n        text-align: right;\n    }\n</style>\n<table border=\"1\" class=\"dataframe\">\n  <thead>\n    <tr style=\"text-align: right;\">\n      <th></th>\n      <th>Norrænt vörunúmer</th>\n      <th>Lyfjaheitisnúmer</th>\n      <th>Heiti lyfs</th>\n      <th>Form lyfs</th>\n      <th>Styrkur</th>\n      <th>Styrkeining</th>\n      <th>Magn</th>\n      <th>Magneining</th>\n      <th>Fj. Pakkninga</th>\n      <th>Pakkning</th>\n      <th>...</th>\n      <th>Skammtur að hámarki fyrir fjölda daga  (100,  30)</th>\n      <th>Heildsöluverð</th>\n      <th>Smásöluverð</th>\n      <th>Meðferð</th>\n      <th>Hmagn</th>\n      <th>Á undanþágulista (1, 0)</th>\n      <th>DDD</th>\n      <th>Unnamed: 1</th>\n      <th>Afskáningardags</th>\n      <th>Unnamed: 36</th>\n    </tr>\n  </thead>\n  <tbody>\n    <tr>\n      <th>0</th>\n      <td>379875.0</td>\n      <td>N05BA0105</td>\n      <td>Stesolid</td>\n      <td>eþ-lausn</td>\n      <td>5</td>\n      <td>mg/2,5ml</td>\n      <td>2,5</td>\n      <td>ml</td>\n      <td>5.0</td>\n      <td>túpa</td>\n      <td>...</td>\n      <td>NaN</td>\n      <td>NaN</td>\n      <td>NaN</td>\n      <td>NaN</td>\n      <td>NaN</td>\n      <td>NaN</td>\n      <td>NaN</td>\n      <td>NaN</td>\n      <td>NaT</td>\n      <td>NaN</td>\n    </tr>\n    <tr>\n      <th>1</th>\n      <td>379883.0</td>\n      <td>N05BA0105</td>\n      <td>Stesolid</td>\n      <td>eþ-lausn</td>\n      <td>10</td>\n      <td>mg/2,5ml</td>\n      <td>2,5</td>\n      <td>ml</td>\n      <td>5.0</td>\n      <td>túpa</td>\n      <td>...</td>\n      <td>NaN</td>\n      <td>NaN</td>\n      <td>NaN</td>\n      <td>NaN</td>\n      <td>NaN</td>\n      <td>NaN</td>\n      <td>NaN</td>\n      <td>NaN</td>\n      <td>NaT</td>\n      <td>NaN</td>\n    </tr>\n    <tr>\n      <th>2</th>\n      <td>43729.0</td>\n      <td>N05CD0503</td>\n      <td>Halcion</td>\n      <td>töflur</td>\n      <td>0,125</td>\n      <td>mg</td>\n      <td>30</td>\n      <td>stk</td>\n      <td>1.0</td>\n      <td>þpakki</td>\n      <td>...</td>\n      <td>NaN</td>\n      <td>NaN</td>\n      <td>NaN</td>\n      <td>NaN</td>\n      <td>NaN</td>\n      <td>NaN</td>\n      <td>NaN</td>\n      <td>NaN</td>\n      <td>NaT</td>\n      <td>NaN</td>\n    </tr>\n    <tr>\n      <th>3</th>\n      <td>48199.0</td>\n      <td>A03CA0201</td>\n      <td>Librax</td>\n      <td>töflur</td>\n      <td>NaN</td>\n      <td>NaN</td>\n      <td>100</td>\n      <td>stk</td>\n      <td>1.0</td>\n      <td>glas</td>\n      <td>...</td>\n      <td>NaN</td>\n      <td>NaN</td>\n      <td>NaN</td>\n      <td>NaN</td>\n      <td>NaN</td>\n      <td>NaN</td>\n      <td>NaN</td>\n      <td>NaN</td>\n      <td>NaT</td>\n      <td>NaN</td>\n    </tr>\n    <tr>\n      <th>4</th>\n      <td>52286.0</td>\n      <td>N05BA1205</td>\n      <td>Alprazolam Mylan</td>\n      <td>töflur</td>\n      <td>0,25</td>\n      <td>mg</td>\n      <td>20</td>\n      <td>stk</td>\n      <td>1.0</td>\n      <td>þpakki</td>\n      <td>...</td>\n      <td>NaN</td>\n      <td>NaN</td>\n      <td>NaN</td>\n      <td>NaN</td>\n      <td>NaN</td>\n      <td>NaN</td>\n      <td>NaN</td>\n      <td>NaN</td>\n      <td>NaT</td>\n      <td>NaN</td>\n    </tr>\n    <tr>\n      <th>5</th>\n      <td>52297.0</td>\n      <td>N05BA1205</td>\n      <td>Alprazolam Mylan</td>\n      <td>töflur</td>\n      <td>0,25</td>\n      <td>mg</td>\n      <td>50</td>\n      <td>stk</td>\n      <td>1.0</td>\n      <td>þpakki</td>\n      <td>...</td>\n      <td>NaN</td>\n      <td>NaN</td>\n      <td>NaN</td>\n      <td>NaN</td>\n      <td>NaN</td>\n      <td>NaN</td>\n      <td>NaN</td>\n      <td>NaN</td>\n      <td>NaT</td>\n      <td>NaN</td>\n    </tr>\n    <tr>\n      <th>6</th>\n      <td>52309.0</td>\n      <td>N05BA1205</td>\n      <td>Alprazolam Mylan</td>\n      <td>töflur</td>\n      <td>0,5</td>\n      <td>mg</td>\n      <td>20</td>\n      <td>stk</td>\n      <td>1.0</td>\n      <td>þpakki</td>\n      <td>...</td>\n      <td>NaN</td>\n      <td>NaN</td>\n      <td>NaN</td>\n      <td>NaN</td>\n      <td>NaN</td>\n      <td>NaN</td>\n      <td>NaN</td>\n      <td>NaN</td>\n      <td>NaT</td>\n      <td>NaN</td>\n    </tr>\n    <tr>\n      <th>7</th>\n      <td>52320.0</td>\n      <td>N05BA1205</td>\n      <td>Alprazolam Mylan</td>\n      <td>töflur</td>\n      <td>0,5</td>\n      <td>mg</td>\n      <td>50</td>\n      <td>stk</td>\n      <td>1.0</td>\n      <td>þpakki</td>\n      <td>...</td>\n      <td>NaN</td>\n      <td>NaN</td>\n      <td>NaN</td>\n      <td>NaN</td>\n      <td>NaN</td>\n      <td>NaN</td>\n      <td>NaN</td>\n      <td>NaN</td>\n      <td>NaT</td>\n      <td>NaN</td>\n    </tr>\n    <tr>\n      <th>8</th>\n      <td>52331.0</td>\n      <td>N05BA1205</td>\n      <td>Alprazolam Mylan</td>\n      <td>töflur</td>\n      <td>0,25</td>\n      <td>mg</td>\n      <td>100</td>\n      <td>stk</td>\n      <td>1.0</td>\n      <td>glas</td>\n      <td>...</td>\n      <td>NaN</td>\n      <td>NaN</td>\n      <td>NaN</td>\n      <td>NaN</td>\n      <td>NaN</td>\n      <td>NaN</td>\n      <td>NaN</td>\n      <td>NaN</td>\n      <td>NaT</td>\n      <td>NaN</td>\n    </tr>\n    <tr>\n      <th>9</th>\n      <td>70203.0</td>\n      <td>N05CF0107</td>\n      <td>Imomed</td>\n      <td>filmhtfl</td>\n      <td>7,5</td>\n      <td>mg</td>\n      <td>30</td>\n      <td>stk</td>\n      <td>1.0</td>\n      <td>þpakki</td>\n      <td>...</td>\n      <td>NaN</td>\n      <td>NaN</td>\n      <td>NaN</td>\n      <td>NaN</td>\n      <td>NaN</td>\n      <td>NaN</td>\n      <td>NaN</td>\n      <td>NaN</td>\n      <td>NaT</td>\n      <td>NaN</td>\n    </tr>\n  </tbody>\n</table>\n<p>10 rows × 100 columns</p>\n</div>"
                    },
                    "metadata": {},
                    "execution_count": 89,
                    "output_type": "execute_result"
                }
            ],
            "execution_count": 89
        },
        {
            "cell_type": "markdown",
            "source": [
                "How many rows are in the dataframe?"
            ],
            "metadata": {
                "azdata_cell_guid": "503fb239-7a80-469c-b492-123c02fd8bd0"
            }
        },
        {
            "cell_type": "code",
            "source": [
                "len(data.index)"
            ],
            "metadata": {
                "azdata_cell_guid": "d153eb1a-3d95-4a46-a707-d103bdce3ef2"
            },
            "outputs": [
                {
                    "data": {
                        "text/plain": "657999"
                    },
                    "metadata": {},
                    "execution_count": 92,
                    "output_type": "execute_result"
                }
            ],
            "execution_count": 92
        },
        {
            "cell_type": "markdown",
            "source": [
                "# **Transform**"
            ],
            "metadata": {
                "azdata_cell_guid": "1027e0af-9433-4f12-bf39-61131f975844",
                "tags": []
            }
        },
        {
            "cell_type": "markdown",
            "source": [
                "Throughout the years the columns have different names, e.g.\n",
                "\n",
                "```\n",
                "   form   Styrkur Styrk form lyfs\n",
                "0   töflur 1.0    NaN   NaN   \n",
                "1   töflur 5.0    NaN   NaN   \n",
                "2   NaN    NaN    1.0   töflur   \n",
                "3   NaN    NaN    1.0   töflur   \n",
                "4   NaN    NaN    1.0   töflur\n",
                "```"
            ],
            "metadata": {
                "azdata_cell_guid": "e855aeb1-5c8e-46c2-bfb9-9b9833d766ec"
            }
        },
        {
            "cell_type": "markdown",
            "source": [
                "Time to clean the data as best we can. Lets merge all the data and rename some columns to something clearer."
            ],
            "metadata": {
                "azdata_cell_guid": "59b74a22-9a12-4a69-a8e0-147f7ba6d6cf"
            }
        },
        {
            "cell_type": "code",
            "source": [
                "data['Norrænt vörunúmer'] = data['Norrænt vörunúmer'].combine_first(data['Nvnr'])\r\n",
                "data['Form'] = data['Form lyfs'].combine_first(data['Form'])\r\n",
                "data['Heiti'] = data['Heiti lyfs'].combine_first(data['Heiti'])\r\n",
                "data['Fj. Pakkninga'] = data['Fj. Pakkninga'].combine_first(data['Fjöldi pakkninga'])\r\n",
                "data['Fj. Pakkninga'] = data['Fj. Pakkninga'].combine_first(data['Fj í pakkningu'])\r\n",
                "data['Tannlæknir ávísar'] = data['Tannlæknir ávísar'].combine_first(data['Tannlæknir ávísar (1, 0)'])\r\n",
                "data['Dýralæknir ávísar'] = data['Dýralæknir ávísar'].combine_first(data['Dýralæknir ávísar  (1, 0)'])\r\n",
                "data['Sérfræðingur ávísar'] = data['Sérfræðingur ávísar'].combine_first(data['Sérfræðingur ávísar  (1, 0)'])\r\n",
                "data['Markaðsleyfishafi kóði'] = data['Markaðsleyfishafi kóði'].combine_first(data['Markaðsleyfishafi-Kódi'])\r\n",
                "data['Sjúkrahúslyf'] = data['Sjúkrahúslyf'].combine_first(data['Sjúkrahúslyf  (1, 0)'])\r\n",
                "data['Á undanþágulista'] = data['Á undanþágulista'].combine_first(data['Á undanþágulista (1, 0)'])\r\n",
                "data['Greiðsluþátttökuverð'] = data['Greiðsluþátttökuverð'].combine_first(data['Greiðsluþátttökusmásöluverð'])\r\n",
                "data['Skammtur, hámark daga'] = data['Skammtur, hámark daga'].combine_first(data['Skammtur að hámarki fyrir fjölda daga  (100,  30)'])\r\n",
                "data['DDD'] = data['DDD á pakkningu'].combine_first(data['DDD'])\r\n",
                "data['Styrkur'] = data['Styrkur'].combine_first(data['Tölugildi styrks'])\r\n",
                "data['Styrkeining'] = data['Styrkeining'].combine_first(data['Einingar styrks'])\r\n",
                "data['Styrkeining'] = data['Styrkeining'].combine_first(data['Einstyrks'])\r\n",
                "data['Styrkeining'] = data['Styrkeining'].combine_first(data['Eining styrks'])\r\n",
                "data['Magn'] = data['Magn'].combine_first(data['Tölugildi magns'])\r\n",
                "data['Magneining'] = data['Magneining'].combine_first(data['Einingar magns'])\r\n",
                "data['Magneining'] = data['Magneining'].combine_first(data['Einmagns'])\r\n",
                "data['Heildarmagn'] = data['Heildarmagn'].combine_first(data['Hmagn'])\r\n",
                "data['Meðferð'] = data['Meðferð'].combine_first(data['Leiðbeiningar um meðferð'])\r\n",
                "data['Geymsluþol'] = data['Geymsluþol'].combine_first(data['Geymsluþol  (F,H,K,S,A)'])\r\n",
                "data['Geymsluþol'] = data['Geymsluþol'].combine_first(data['Geymslutími (0-5, G>= 5ár)'])\r\n",
                "data['Viðmiðunargjaldmiðill'] = data['Viðmiðunargjaldmiðill'].combine_first(data['Viðmiðunargjald'])\r\n",
                "data['Ákvörðun LGN'] = data['Ákvörðun LGN um greiðsluþátttöku'].combine_first(data['Ákvörðun LGN'])\r\n",
                "data['Greiðsluhlutur SÍ'] = data['Greiðsluhlutur SÍ'].combine_first(data['Greiðsluhlutur TR'])\r\n",
                "data['Geðlyf á geðdeild'] = data['Geðlyf á geðdeild'].combine_first(data['Geðlyf á geðdeild  (1, 0)'])\r\n",
                "data['Eftirritunarskylt'] = data['Eftirritunarskylt'].combine_first(data['Eftirritunarskylt  (1, 0)'])\r\n",
                "data['Skráningardagsetning'] = data['Skráningardagsetning'].combine_first(data['Skráningardags'])\r\n",
                "data['Afskráningardagsetning'] = data['Afskráningardagsetning'].combine_first(data['Afskáningardags'])\r\n",
                "data['Afskráningardagsetning'] = data['Afskráningardagsetning'].combine_first(data['Afskráning'])\r\n",
                "\r\n",
                "## Drop our merged columns\r\n",
                "data = data.drop(columns=[\r\n",
                "'Norrænt vörunúmer',\r\n",
                "'Form lyfs',\r\n",
                "'Fjöldi pakkninga','Fj í pakkningu',\r\n",
                "'Tannlæknir ávísar (1, 0)',\r\n",
                "'Heiti lyfs',\r\n",
                "'Markaðsleyfishafi kóði',\r\n",
                "'Dýralæknir ávísar  (1, 0)',\r\n",
                "'Sérfræðingur ávísar  (1, 0)',\r\n",
                "'Sjúkrahúslyf  (1, 0)',\r\n",
                "'Á undanþágulista (1, 0)',\r\n",
                "'Greiðsluþátttökusmásöluverð',\r\n",
                "'Skammtur að hámarki fyrir fjölda daga  (100,  30)',\r\n",
                "'DDD á pakkningu',\r\n",
                "'Styrkeining','Einstyrks','Einingar styrks','Eining styrks','Tölugildi styrks',\r\n",
                "'Magneining','Einmagns','Einingar magns','Tölugildi magns',\r\n",
                "'Heildarmagn',\r\n",
                "'Meðferð',\r\n",
                "'Unnamed: 0','Unnamed: 1','Unnamed: 36',\r\n",
                "'Viðmiðunargjald',\r\n",
                "'Ákvörðun LGN um greiðsluþátttöku',\r\n",
                "'Greiðsluhlutur TR',\r\n",
                "'Geðlyf á geðdeild  (1, 0)',\r\n",
                "'Eftirritunarskylt  (1, 0)',\r\n",
                "'Skráningardags',\r\n",
                "'Geymsluþol  (F,H,K,S,A)',\r\n",
                "'Afskráning','Afskáningardags'])\r\n",
                ""
            ],
            "metadata": {
                "azdata_cell_guid": "cda2bc39-b8c0-46ee-aa79-beed469a1a4d",
                "tags": []
            },
            "outputs": [],
            "execution_count": 93
        },
        {
            "cell_type": "code",
            "source": [
                "data = data.rename(columns={\r\n",
                "'Afgreiðslumáti  (R,L,U)':'Afgreiðslumáti',\r\n",
                "'Geymslutími (0-5, G>= 5ár)':'Geymslutími',\r\n",
                "'Greiðsluhlutur Tr  (0,*,B,E)':'Greiðsluhlutur Tr'\r\n",
                "})"
            ],
            "metadata": {
                "azdata_cell_guid": "53f34ae7-f34e-47ad-bd73-9427a3f0e3f6",
                "tags": []
            },
            "outputs": [],
            "execution_count": 94
        },
        {
            "cell_type": "code",
            "source": [
                "data['Hámarks heildsöluverð'] = data['Hámarks heildsöluverð'].str.replace(r'\\.', '')\r\n",
                "data['Hámarks heildsöluverð'] = data[['Hámarks heildsöluverð']].apply(pd.to_numeric)\r\n",
                "data['Hámarks smásöluverð'] = data['Hámarks smásöluverð'].str.replace(r'\\.', '')\r\n",
                "data['Hámarks smásöluverð'] = data[['Hámarks smásöluverð']].apply(pd.to_numeric)\r\n",
                "data['Lyfjaframleiðenda heildsöluverð'] = data[['Lyfjaframleiðenda heildsöluverð']].apply(pd.to_numeric)"
            ],
            "metadata": {
                "azdata_cell_guid": "eeb8ecf7-f493-473c-aad0-b06243aa3ca7",
                "tags": []
            },
            "outputs": [
{
    "name": "stderr",
    "text": "<ipython-input-95-ae96e8418418>:1: FutureWarning: The default value of regex will change from True to False in a future version.\n  data['Hámarks heildsöluverð'] = data['Hámarks heildsöluverð'].str.replace(r'\\.', '')\n",
    "output_type": "stream"
}, {
    "name": "stderr",
    "text": "<ipython-input-95-ae96e8418418>:3: FutureWarning: The default value of regex will change from True to False in a future version.\n  data['Hámarks smásöluverð'] = data['Hámarks smásöluverð'].str.replace(r'\\.', '')\n",
    "output_type": "stream"
}
],
            "execution_count": null
        },
        {
            "cell_type": "code",
            "source": [
                "data.columns"
            ],
            "metadata": {
                "azdata_cell_guid": "098e2f0f-1cd6-4b57-a060-51a65908aec4",
                "tags": []
            },
            "outputs": [
{
    "data": {
        "text/plain": "Index(['Lyfjaheitisnúmer', 'Styrkur', 'Magn', 'Fj. Pakkninga', 'Pakkning',\n       'Athugasemdir', 'ATC-flokkur', 'Skráningardagsetning',\n       'Afskráningardagsetning', 'Afgreiðslumáti', 'Skömmtunarmöguleikar ',\n       'Öryggiskröfur LST', 'Sérfræðingur ávísar', 'Greiðsluhlutur SÍ',\n       'Sjúkrahúslyf', 'Dýralæknir ávísar', 'Leyfisskyld lyf ',\n       'Tannlæknir ávísar', 'Skammtur, hámark daga', 'Viðmiðunargjaldmiðill',\n       'Hámarks heildsöluverð', 'Hámarks smásöluverð', 'Álagningarflokkur',\n       'Viðmiðunarverðflokkur', 'Viðmiðunarverð', 'Staða lyfs ',\n       'Á undanþágulista', 'Umboðsaðili', 'Markaðsleyfishafi',\n       'Heiti virka innihaldsefnis', 'Lyfjaframleiðenda heildsöluverð',\n       'Umboðsmanna heildsöluverð', 'Heildsölu heildsöluverð',\n       'Innkaupsverð apóteka', 'Greiðsluþátttökuverð',\n       'Fellt úr lyfjaverðskrá vegna birgðaskorts', 'Heildsali', 'H merking',\n       'Ávana og fíknilyf', 'Ávana og fíknilyf magn',\n       'Ávana og fíknilyf eining', 'Hjúkr-/ljósm ávísar', 'file',\n       'Eftirritunarskylt', 'GTIN númer', 'Ákvörðun LGN', 'Geymsluskilyrði',\n       'Geymsluþol', 'Geðlyf á geðdeild', 'Leiðbeiningar um meðferð',\n       'Markaðsfyrirtækja/umboðsmanna heildsöluverð', 'Mismunur', 'Nvnr',\n       'Heiti', 'Form', 'Afgreiðslumáti', 'Geymslutími', 'Greiðsluhlutur Tr',\n       'Markaðsleyfishafi-Kódi', 'Heildsöluverð', 'Smásöluverð', 'Hmagn',\n       'DDD'],\n      dtype='object')"
    },
    "metadata": {},
    "execution_count": 96,
    "output_type": "execute_result"
}
],
            "execution_count": null
        },
        {
            "cell_type": "code",
            "source": [
                "data.head(10)"
            ],
            "metadata": {
                "azdata_cell_guid": "537fe48b-fb27-4276-9643-1cdd25d55a60",
                "tags": []
            },
            "outputs": [
{
    "data": {
        "text/plain": "  Lyfjaheitisnúmer Styrkur Magn  Fj. Pakkninga Pakkning Athugasemdir  \\\n0        N05BA0105       5  2,5            5.0     túpa          NaN   \n1        N05BA0105      10  2,5            5.0     túpa          NaN   \n2        N05CD0503   0,125   30            1.0   þpakki          NaN   \n3        A03CA0201     NaN  100            1.0     glas          NaN   \n4        N05BA1205    0,25   20            1.0   þpakki          NaN   \n5        N05BA1205    0,25   50            1.0   þpakki          NaN   \n6        N05BA1205     0,5   20            1.0   þpakki          NaN   \n7        N05BA1205     0,5   50            1.0   þpakki          NaN   \n8        N05BA1205    0,25  100            1.0     glas          NaN   \n9        N05CF0107     7,5   30            1.0   þpakki          NaN   \n\n  ATC-flokkur Skráningardagsetning Afskráningardagsetning  Afgreiðslumáti  \\\n0     N05BA01            1.10.1995                   None               R   \n1     N05BA01            1.10.1995                   None               R   \n2     N05CD05            1.12.1983                   None               R   \n3     A03CA02            1.12.1972                   None               R   \n4     N05BA12            1.10.2009                   None               R   \n5     N05BA12            1.10.2009                   None               R   \n6     N05BA12             1.7.2009                   None               R   \n7     N05BA12            1.10.2009                   None               R   \n8     N05BA12             1.8.2009                   None               R   \n9     N05CF01             1.5.2020                   None               R   \n\n   ...             Heiti      Form  Afgreiðslumáti Geymslutími  \\\n0  ...          Stesolid  eþ-lausn             NaN         NaN   \n1  ...          Stesolid  eþ-lausn             NaN         NaN   \n2  ...           Halcion    töflur             NaN         NaN   \n3  ...            Librax    töflur             NaN         NaN   \n4  ...  Alprazolam Mylan    töflur             NaN         NaN   \n5  ...  Alprazolam Mylan    töflur             NaN         NaN   \n6  ...  Alprazolam Mylan    töflur             NaN         NaN   \n7  ...  Alprazolam Mylan    töflur             NaN         NaN   \n8  ...  Alprazolam Mylan    töflur             NaN         NaN   \n9  ...            Imomed  filmhtfl             NaN         NaN   \n\n   Greiðsluhlutur Tr  Markaðsleyfishafi-Kódi  Heildsöluverð  Smásöluverð  \\\n0                NaN                     NaN            NaN          NaN   \n1                NaN                     NaN            NaN          NaN   \n2                NaN                     NaN            NaN          NaN   \n3                NaN                     NaN            NaN          NaN   \n4                NaN                     NaN            NaN          NaN   \n5                NaN                     NaN            NaN          NaN   \n6                NaN                     NaN            NaN          NaN   \n7                NaN                     NaN            NaN          NaN   \n8                NaN                     NaN            NaN          NaN   \n9                NaN                     NaN            NaN          NaN   \n\n   Hmagn   DDD  \n0    NaN   2,5  \n1    NaN     5  \n2    NaN    15  \n3    NaN   NaN  \n4    NaN     5  \n5    NaN  12,5  \n6    NaN    10  \n7    NaN    25  \n8    NaN    25  \n9    NaN    30  \n\n[10 rows x 63 columns]",
        "text/html": "<div>\n<style scoped>\n    .dataframe tbody tr th:only-of-type {\n        vertical-align: middle;\n    }\n\n    .dataframe tbody tr th {\n        vertical-align: top;\n    }\n\n    .dataframe thead th {\n        text-align: right;\n    }\n</style>\n<table border=\"1\" class=\"dataframe\">\n  <thead>\n    <tr style=\"text-align: right;\">\n      <th></th>\n      <th>Lyfjaheitisnúmer</th>\n      <th>Styrkur</th>\n      <th>Magn</th>\n      <th>Fj. Pakkninga</th>\n      <th>Pakkning</th>\n      <th>Athugasemdir</th>\n      <th>ATC-flokkur</th>\n      <th>Skráningardagsetning</th>\n      <th>Afskráningardagsetning</th>\n      <th>Afgreiðslumáti</th>\n      <th>...</th>\n      <th>Heiti</th>\n      <th>Form</th>\n      <th>Afgreiðslumáti</th>\n      <th>Geymslutími</th>\n      <th>Greiðsluhlutur Tr</th>\n      <th>Markaðsleyfishafi-Kódi</th>\n      <th>Heildsöluverð</th>\n      <th>Smásöluverð</th>\n      <th>Hmagn</th>\n      <th>DDD</th>\n    </tr>\n  </thead>\n  <tbody>\n    <tr>\n      <th>0</th>\n      <td>N05BA0105</td>\n      <td>5</td>\n      <td>2,5</td>\n      <td>5.0</td>\n      <td>túpa</td>\n      <td>NaN</td>\n      <td>N05BA01</td>\n      <td>1.10.1995</td>\n      <td>None</td>\n      <td>R</td>\n      <td>...</td>\n      <td>Stesolid</td>\n      <td>eþ-lausn</td>\n      <td>NaN</td>\n      <td>NaN</td>\n      <td>NaN</td>\n      <td>NaN</td>\n      <td>NaN</td>\n      <td>NaN</td>\n      <td>NaN</td>\n      <td>2,5</td>\n    </tr>\n    <tr>\n      <th>1</th>\n      <td>N05BA0105</td>\n      <td>10</td>\n      <td>2,5</td>\n      <td>5.0</td>\n      <td>túpa</td>\n      <td>NaN</td>\n      <td>N05BA01</td>\n      <td>1.10.1995</td>\n      <td>None</td>\n      <td>R</td>\n      <td>...</td>\n      <td>Stesolid</td>\n      <td>eþ-lausn</td>\n      <td>NaN</td>\n      <td>NaN</td>\n      <td>NaN</td>\n      <td>NaN</td>\n      <td>NaN</td>\n      <td>NaN</td>\n      <td>NaN</td>\n      <td>5</td>\n    </tr>\n    <tr>\n      <th>2</th>\n      <td>N05CD0503</td>\n      <td>0,125</td>\n      <td>30</td>\n      <td>1.0</td>\n      <td>þpakki</td>\n      <td>NaN</td>\n      <td>N05CD05</td>\n      <td>1.12.1983</td>\n      <td>None</td>\n      <td>R</td>\n      <td>...</td>\n      <td>Halcion</td>\n      <td>töflur</td>\n      <td>NaN</td>\n      <td>NaN</td>\n      <td>NaN</td>\n      <td>NaN</td>\n      <td>NaN</td>\n      <td>NaN</td>\n      <td>NaN</td>\n      <td>15</td>\n    </tr>\n    <tr>\n      <th>3</th>\n      <td>A03CA0201</td>\n      <td>NaN</td>\n      <td>100</td>\n      <td>1.0</td>\n      <td>glas</td>\n      <td>NaN</td>\n      <td>A03CA02</td>\n      <td>1.12.1972</td>\n      <td>None</td>\n      <td>R</td>\n      <td>...</td>\n      <td>Librax</td>\n      <td>töflur</td>\n      <td>NaN</td>\n      <td>NaN</td>\n      <td>NaN</td>\n      <td>NaN</td>\n      <td>NaN</td>\n      <td>NaN</td>\n      <td>NaN</td>\n      <td>NaN</td>\n    </tr>\n    <tr>\n      <th>4</th>\n      <td>N05BA1205</td>\n      <td>0,25</td>\n      <td>20</td>\n      <td>1.0</td>\n      <td>þpakki</td>\n      <td>NaN</td>\n      <td>N05BA12</td>\n      <td>1.10.2009</td>\n      <td>None</td>\n      <td>R</td>\n      <td>...</td>\n      <td>Alprazolam Mylan</td>\n      <td>töflur</td>\n      <td>NaN</td>\n      <td>NaN</td>\n      <td>NaN</td>\n      <td>NaN</td>\n      <td>NaN</td>\n      <td>NaN</td>\n      <td>NaN</td>\n      <td>5</td>\n    </tr>\n    <tr>\n      <th>5</th>\n      <td>N05BA1205</td>\n      <td>0,25</td>\n      <td>50</td>\n      <td>1.0</td>\n      <td>þpakki</td>\n      <td>NaN</td>\n      <td>N05BA12</td>\n      <td>1.10.2009</td>\n      <td>None</td>\n      <td>R</td>\n      <td>...</td>\n      <td>Alprazolam Mylan</td>\n      <td>töflur</td>\n      <td>NaN</td>\n      <td>NaN</td>\n      <td>NaN</td>\n      <td>NaN</td>\n      <td>NaN</td>\n      <td>NaN</td>\n      <td>NaN</td>\n      <td>12,5</td>\n    </tr>\n    <tr>\n      <th>6</th>\n      <td>N05BA1205</td>\n      <td>0,5</td>\n      <td>20</td>\n      <td>1.0</td>\n      <td>þpakki</td>\n      <td>NaN</td>\n      <td>N05BA12</td>\n      <td>1.7.2009</td>\n      <td>None</td>\n      <td>R</td>\n      <td>...</td>\n      <td>Alprazolam Mylan</td>\n      <td>töflur</td>\n      <td>NaN</td>\n      <td>NaN</td>\n      <td>NaN</td>\n      <td>NaN</td>\n      <td>NaN</td>\n      <td>NaN</td>\n      <td>NaN</td>\n      <td>10</td>\n    </tr>\n    <tr>\n      <th>7</th>\n      <td>N05BA1205</td>\n      <td>0,5</td>\n      <td>50</td>\n      <td>1.0</td>\n      <td>þpakki</td>\n      <td>NaN</td>\n      <td>N05BA12</td>\n      <td>1.10.2009</td>\n      <td>None</td>\n      <td>R</td>\n      <td>...</td>\n      <td>Alprazolam Mylan</td>\n      <td>töflur</td>\n      <td>NaN</td>\n      <td>NaN</td>\n      <td>NaN</td>\n      <td>NaN</td>\n      <td>NaN</td>\n      <td>NaN</td>\n      <td>NaN</td>\n      <td>25</td>\n    </tr>\n    <tr>\n      <th>8</th>\n      <td>N05BA1205</td>\n      <td>0,25</td>\n      <td>100</td>\n      <td>1.0</td>\n      <td>glas</td>\n      <td>NaN</td>\n      <td>N05BA12</td>\n      <td>1.8.2009</td>\n      <td>None</td>\n      <td>R</td>\n      <td>...</td>\n      <td>Alprazolam Mylan</td>\n      <td>töflur</td>\n      <td>NaN</td>\n      <td>NaN</td>\n      <td>NaN</td>\n      <td>NaN</td>\n      <td>NaN</td>\n      <td>NaN</td>\n      <td>NaN</td>\n      <td>25</td>\n    </tr>\n    <tr>\n      <th>9</th>\n      <td>N05CF0107</td>\n      <td>7,5</td>\n      <td>30</td>\n      <td>1.0</td>\n      <td>þpakki</td>\n      <td>NaN</td>\n      <td>N05CF01</td>\n      <td>1.5.2020</td>\n      <td>None</td>\n      <td>R</td>\n      <td>...</td>\n      <td>Imomed</td>\n      <td>filmhtfl</td>\n      <td>NaN</td>\n      <td>NaN</td>\n      <td>NaN</td>\n      <td>NaN</td>\n      <td>NaN</td>\n      <td>NaN</td>\n      <td>NaN</td>\n      <td>30</td>\n    </tr>\n  </tbody>\n</table>\n<p>10 rows × 63 columns</p>\n</div>"
    },
    "metadata": {},
    "execution_count": 97,
    "output_type": "execute_result"
}
],
            "execution_count": null
        },
        {
            "cell_type": "markdown",
            "source": [
                "There's no load step since this is a simple notebook so let's just see some data"
            ],
            "metadata": {
                "azdata_cell_guid": "f86dc866-d83e-4b43-b927-55a48224332d"
            }
        },
        {
            "cell_type": "markdown",
            "source": [
                "### For each file released throughout the years, what was the most expensive wholesale drug?"
            ],
            "metadata": {
                "azdata_cell_guid": "edd35ecd-28f3-4b9e-a762-7f3b45a5dd20"
            }
        },
        {
            "cell_type": "code",
            "source": [
                "max_price = []\r\n",
                "for file in data['file'].unique():\r\n",
                "    data_price = data.loc[data['file'] == file]\r\n",
                "    group = data_price[data_price['Hámarks heildsöluverð']==data_price['Hámarks heildsöluverð'].max()].reset_index()\r\n",
                "    max_price.append({\r\n",
                "    'file':file,\r\n",
                "    'Heiti':group['Heiti'].values,\r\n",
                "    'Verð':group['Hámarks heildsöluverð'].values\r\n",
                "    })\r\n",
                "\r\n",
                "max_price_df = pd.DataFrame(max_price)\r\n",
                "max_price_df.head(10)"
            ],
            "metadata": {
                "azdata_cell_guid": "8a743eb4-33b4-4e19-89df-1b8274899fc8",
                "tags": []
            },
            "outputs": [
{
    "data": {
        "text/plain": "                                      file       Heiti          Verð\n0                    lyfjaverdskra_03_2021  [Spinraza]  [11854734.0]\n1          undanthagulyfjaverdskra_03_2021  [Kalydeco]   [3018333.0]\n2  undanthagulyfjaverdskra_19_februar_2021  [Kalydeco]   [3025394.0]\n3  undanthagulyfjaverdskra_12_februar_2021  [Kalydeco]   [3025394.0]\n4   undanthagulyfjaverdskra_4_februar_2021  [Kalydeco]   [3025394.0]\n5                    lyfjaverdskra_02_2021  [Spinraza]  [11882468.0]\n6          undanthagulyfjaverdskra_02_2021  [Kalydeco]   [3025394.0]\n7   undanthagulyfjaverdskra_20_januar_2021  [Kalydeco]   [3030874.0]\n8       undanthagulyfjaverdskra_15_01_2021  [Kalydeco]   [3030874.0]\n9    undanthagulyfjaverdskra_8_januar_2021  [Kalydeco]   [3030874.0]",
        "text/html": "<div>\n<style scoped>\n    .dataframe tbody tr th:only-of-type {\n        vertical-align: middle;\n    }\n\n    .dataframe tbody tr th {\n        vertical-align: top;\n    }\n\n    .dataframe thead th {\n        text-align: right;\n    }\n</style>\n<table border=\"1\" class=\"dataframe\">\n  <thead>\n    <tr style=\"text-align: right;\">\n      <th></th>\n      <th>file</th>\n      <th>Heiti</th>\n      <th>Verð</th>\n    </tr>\n  </thead>\n  <tbody>\n    <tr>\n      <th>0</th>\n      <td>lyfjaverdskra_03_2021</td>\n      <td>[Spinraza]</td>\n      <td>[11854734.0]</td>\n    </tr>\n    <tr>\n      <th>1</th>\n      <td>undanthagulyfjaverdskra_03_2021</td>\n      <td>[Kalydeco]</td>\n      <td>[3018333.0]</td>\n    </tr>\n    <tr>\n      <th>2</th>\n      <td>undanthagulyfjaverdskra_19_februar_2021</td>\n      <td>[Kalydeco]</td>\n      <td>[3025394.0]</td>\n    </tr>\n    <tr>\n      <th>3</th>\n      <td>undanthagulyfjaverdskra_12_februar_2021</td>\n      <td>[Kalydeco]</td>\n      <td>[3025394.0]</td>\n    </tr>\n    <tr>\n      <th>4</th>\n      <td>undanthagulyfjaverdskra_4_februar_2021</td>\n      <td>[Kalydeco]</td>\n      <td>[3025394.0]</td>\n    </tr>\n    <tr>\n      <th>5</th>\n      <td>lyfjaverdskra_02_2021</td>\n      <td>[Spinraza]</td>\n      <td>[11882468.0]</td>\n    </tr>\n    <tr>\n      <th>6</th>\n      <td>undanthagulyfjaverdskra_02_2021</td>\n      <td>[Kalydeco]</td>\n      <td>[3025394.0]</td>\n    </tr>\n    <tr>\n      <th>7</th>\n      <td>undanthagulyfjaverdskra_20_januar_2021</td>\n      <td>[Kalydeco]</td>\n      <td>[3030874.0]</td>\n    </tr>\n    <tr>\n      <th>8</th>\n      <td>undanthagulyfjaverdskra_15_01_2021</td>\n      <td>[Kalydeco]</td>\n      <td>[3030874.0]</td>\n    </tr>\n    <tr>\n      <th>9</th>\n      <td>undanthagulyfjaverdskra_8_januar_2021</td>\n      <td>[Kalydeco]</td>\n      <td>[3030874.0]</td>\n    </tr>\n  </tbody>\n</table>\n</div>"
    },
    "metadata": {},
    "execution_count": 100,
    "output_type": "execute_result"
}
],
            "execution_count": null
        },
        {
            "cell_type": "markdown",
            "source": [
                "Whats the difference between max retail sales price and max wholesale sales price for March 2021?"
            ],
            "metadata": {
                "azdata_cell_guid": "c900f64b-ad0c-4a66-beda-2afeda3987f8"
            }
        },
        {
            "cell_type": "code",
            "source": [
                "diff_df = data.loc[data['file'] == 'lyfjaverdskra_03_2021']\r\n",
                "diff_df['diff'] = diff_df['Hámarks smásöluverð'] - diff_df['Hámarks heildsöluverð']\r\n",
                "diff_df[['Lyfjaheitisnúmer','Heiti','Form','Styrkur','diff']]"
            ],
            "metadata": {
                "azdata_cell_guid": "4b3623d8-641b-4c15-89c2-7cd148c6ca1e",
                "tags": []
            },
            "outputs": [
{
    "name": "stderr",
    "text": "<ipython-input-101-3cac93070df7>:2: SettingWithCopyWarning: \nA value is trying to be set on a copy of a slice from a DataFrame.\nTry using .loc[row_indexer,col_indexer] = value instead\n\nSee the caveats in the documentation: https://pandas.pydata.org/pandas-docs/stable/user_guide/indexing.html#returning-a-view-versus-a-copy\n  diff_df['diff'] = diff_df['Hámarks smásöluverð'] - diff_df['Hámarks heildsöluverð']\n",
    "output_type": "stream"
}, {
    "data": {
        "text/plain": "     Lyfjaheitisnúmer                                     Heiti      Form  \\\n0           N05BA0105                                  Stesolid  eþ-lausn   \n1           N05BA0105                                  Stesolid  eþ-lausn   \n2           N05CD0503                                   Halcion    töflur   \n3           A03CA0201                                    Librax    töflur   \n4           N05BA1205                          Alprazolam Mylan    töflur   \n...               ...                                       ...       ...   \n3564        A01AC0002   Fluticasone propionate - forskriftarlyf  munnskol   \n3565        D07XA0103                 HTH krem - forskriftarlyf      krem   \n3566        D10AD0104                Tretinoin - forskriftarlyf      krem   \n3567        C07AA0513  Propranolol hydrochloride-forskriftarlyf   mixtúra   \n3568        D07AD0102  Clobetazol in Dermazink - forskriftarlyf     lausn   \n\n     Styrkur    diff  \n0          5  2353.0  \n1         10  2632.0  \n2      0,125  1694.0  \n3        NaN  1608.0  \n4       0,25  1568.0  \n...      ...     ...  \n3564     0,1  2989.0  \n3565     NaN  2806.0  \n3566    0,05  2619.0  \n3567       2  3472.0  \n3568      50  7896.0  \n\n[3569 rows x 5 columns]",
        "text/html": "<div>\n<style scoped>\n    .dataframe tbody tr th:only-of-type {\n        vertical-align: middle;\n    }\n\n    .dataframe tbody tr th {\n        vertical-align: top;\n    }\n\n    .dataframe thead th {\n        text-align: right;\n    }\n</style>\n<table border=\"1\" class=\"dataframe\">\n  <thead>\n    <tr style=\"text-align: right;\">\n      <th></th>\n      <th>Lyfjaheitisnúmer</th>\n      <th>Heiti</th>\n      <th>Form</th>\n      <th>Styrkur</th>\n      <th>diff</th>\n    </tr>\n  </thead>\n  <tbody>\n    <tr>\n      <th>0</th>\n      <td>N05BA0105</td>\n      <td>Stesolid</td>\n      <td>eþ-lausn</td>\n      <td>5</td>\n      <td>2353.0</td>\n    </tr>\n    <tr>\n      <th>1</th>\n      <td>N05BA0105</td>\n      <td>Stesolid</td>\n      <td>eþ-lausn</td>\n      <td>10</td>\n      <td>2632.0</td>\n    </tr>\n    <tr>\n      <th>2</th>\n      <td>N05CD0503</td>\n      <td>Halcion</td>\n      <td>töflur</td>\n      <td>0,125</td>\n      <td>1694.0</td>\n    </tr>\n    <tr>\n      <th>3</th>\n      <td>A03CA0201</td>\n      <td>Librax</td>\n      <td>töflur</td>\n      <td>NaN</td>\n      <td>1608.0</td>\n    </tr>\n    <tr>\n      <th>4</th>\n      <td>N05BA1205</td>\n      <td>Alprazolam Mylan</td>\n      <td>töflur</td>\n      <td>0,25</td>\n      <td>1568.0</td>\n    </tr>\n    <tr>\n      <th>...</th>\n      <td>...</td>\n      <td>...</td>\n      <td>...</td>\n      <td>...</td>\n      <td>...</td>\n    </tr>\n    <tr>\n      <th>3564</th>\n      <td>A01AC0002</td>\n      <td>Fluticasone propionate - forskriftarlyf</td>\n      <td>munnskol</td>\n      <td>0,1</td>\n      <td>2989.0</td>\n    </tr>\n    <tr>\n      <th>3565</th>\n      <td>D07XA0103</td>\n      <td>HTH krem - forskriftarlyf</td>\n      <td>krem</td>\n      <td>NaN</td>\n      <td>2806.0</td>\n    </tr>\n    <tr>\n      <th>3566</th>\n      <td>D10AD0104</td>\n      <td>Tretinoin - forskriftarlyf</td>\n      <td>krem</td>\n      <td>0,05</td>\n      <td>2619.0</td>\n    </tr>\n    <tr>\n      <th>3567</th>\n      <td>C07AA0513</td>\n      <td>Propranolol hydrochloride-forskriftarlyf</td>\n      <td>mixtúra</td>\n      <td>2</td>\n      <td>3472.0</td>\n    </tr>\n    <tr>\n      <th>3568</th>\n      <td>D07AD0102</td>\n      <td>Clobetazol in Dermazink - forskriftarlyf</td>\n      <td>lausn</td>\n      <td>50</td>\n      <td>7896.0</td>\n    </tr>\n  </tbody>\n</table>\n<p>3569 rows × 5 columns</p>\n</div>"
    },
    "metadata": {},
    "execution_count": 101,
    "output_type": "execute_result"
}
],
            "execution_count": null
        }
    ]
}