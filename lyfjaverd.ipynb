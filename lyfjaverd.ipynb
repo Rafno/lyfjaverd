{
    "metadata": {
        "kernelspec": {
            "name": "python3",
            "display_name": "Python 3",
            "language": "python"
        },
        "language_info": {
            "name": "python",
            "version": "3.9.2",
            "mimetype": "text/x-python",
            "codemirror_mode": {
                "name": "ipython",
                "version": 3
            },
            "pygments_lexer": "ipython3",
            "nbconvert_exporter": "python",
            "file_extension": ".py"
        }
    },
    "nbformat_minor": 2,
    "nbformat": 4,
    "cells": [
        {
            "cell_type": "code",
            "source": [
                "import requests\r\n",
                "import re\r\n",
                "import pandas as pd\r\n",
                "import io\r\n",
                "import html5lib\r\n",
                "from bs4 import BeautifulSoup as bs\r\n",
                "from IPython.display import clear_output\r\n",
                "import platform\r\n",
                "import numpy as np\r\n",
                "import matplotlib as mpl\r\n",
                "import matplotlib.pyplot as plt\r\n",
                "from datetime import datetime"
            ],
            "metadata": {
                "azdata_cell_guid": "4b0819d9-6aa3-4782-a926-6bf8da0ab601",
                "tags": []
            },
            "outputs": [],
            "execution_count": 364
        },
        {
            "cell_type": "markdown",
            "source": [
                "Any urls we may need"
            ],
            "metadata": {
                "azdata_cell_guid": "af5656d4-dd7d-4838-a6de-bbb55b6906f8"
            }
        },
        {
            "cell_type": "code",
            "source": [
                "_BASE_URL = 'https://verd.lyfjastofnun.is/'\r\n",
                "_URL = 'https://verd.lyfjastofnun.is/?pageid=10'"
            ],
            "metadata": {
                "azdata_cell_guid": "8795abca-b3a9-4586-81dd-143b6ffadfff",
                "tags": []
            },
            "outputs": [],
            "execution_count": 365
        },
        {
            "cell_type": "markdown",
            "source": [
                "# **Extract**"
            ],
            "metadata": {
                "azdata_cell_guid": "5270e7f3-66ce-441f-a366-04009d5f5d1c"
            }
        },
        {
            "cell_type": "markdown",
            "source": [
                "Fetch the urls of all excel files, do not get xlsx files that were uploaded due to them being a security issue.\n",
                "\n",
                "https://stackoverflow.com/questions/65250207/pandas-cannot-open-an-excel-xlsx-file"
            ],
            "metadata": {
                "azdata_cell_guid": "5ad4ab76-b5ad-40a7-8250-63141850de53"
            }
        },
        {
            "cell_type": "code",
            "source": [
                "r = requests.get(_URL)\r\n",
                "soup = bs(r.text)\r\n",
                "#xlsx\r\n",
                "_links = soup.find_all('a', {'href': re.compile(r'verdskra.*\\.xls$')})"
            ],
            "metadata": {
                "azdata_cell_guid": "8af0a5bb-d276-497d-9eb9-e76f88568273"
            },
            "outputs": [],
            "execution_count": 366
        },
        {
            "cell_type": "markdown",
            "source": [
                "Iterate through all excel files and add to our dataframe for processing.\n",
                "\n",
                "Skip the first file as it simply explains the columns of the rest of the files."
            ],
            "metadata": {
                "azdata_cell_guid": "5fa3f3ef-41a2-4021-9824-f3e22dd19346"
            }
        },
        {
            "cell_type": "code",
            "source": [
                "appended_data = []\r\n",
                "for index, link in enumerate(_links[1:]):\r\n",
                "    price_link = link.get(\"href\")\r\n",
                "    file_name = re.search('gogn/(.*).xls',price_link).group(1)\r\n",
                "    response = requests.get(_BASE_URL + price_link).content#\r\n",
                "    inc_data = pd.read_excel(response).assign(file=file_name)\r\n",
                "    appended_data.append(inc_data)\r\n",
                "\r\n",
                "data = pd.concat(appended_data)\r\n",
                "data.head(10)"
            ],
            "metadata": {
                "azdata_cell_guid": "17728f2e-3323-4943-ac35-dc6a5605fbb8",
                "tags": []
            },
            "outputs": [
                {
                    "data": {
                        "text/plain": "   Norrænt vörunúmer Lyfjaheitisnúmer        Heiti lyfs Form lyfs Styrkur  \\\n0           379875.0        N05BA0105          Stesolid  eþ-lausn       5   \n1           379883.0        N05BA0105          Stesolid  eþ-lausn      10   \n2            43729.0        N05CD0503           Halcion    töflur   0,125   \n3            48199.0        A03CA0201            Librax    töflur     NaN   \n4            52286.0        N05BA1205  Alprazolam Mylan    töflur    0,25   \n5            52297.0        N05BA1205  Alprazolam Mylan    töflur    0,25   \n6            52309.0        N05BA1205  Alprazolam Mylan    töflur     0,5   \n7            52320.0        N05BA1205  Alprazolam Mylan    töflur     0,5   \n8            52331.0        N05BA1205  Alprazolam Mylan    töflur    0,25   \n9            70203.0        N05CF0107            Imomed  filmhtfl     7,5   \n\n  Styrkeining Magn Magneining  Fj. Pakkninga Pakkning  ...  \\\n0    mg/2,5ml  2,5         ml            5.0     túpa  ...   \n1    mg/2,5ml  2,5         ml            5.0     túpa  ...   \n2          mg   30        stk            1.0   þpakki  ...   \n3         NaN  100        stk            1.0     glas  ...   \n4          mg   20        stk            1.0   þpakki  ...   \n5          mg   50        stk            1.0   þpakki  ...   \n6          mg   20        stk            1.0   þpakki  ...   \n7          mg   50        stk            1.0   þpakki  ...   \n8          mg  100        stk            1.0     glas  ...   \n9          mg   30        stk            1.0   þpakki  ...   \n\n  Skammtur að hámarki fyrir fjölda daga  (100,  30) Heildsöluverð Smásöluverð  \\\n0                                               NaN           NaN         NaN   \n1                                               NaN           NaN         NaN   \n2                                               NaN           NaN         NaN   \n3                                               NaN           NaN         NaN   \n4                                               NaN           NaN         NaN   \n5                                               NaN           NaN         NaN   \n6                                               NaN           NaN         NaN   \n7                                               NaN           NaN         NaN   \n8                                               NaN           NaN         NaN   \n9                                               NaN           NaN         NaN   \n\n  Meðferð Hmagn  Á undanþágulista (1, 0)  DDD  Unnamed: 1 Afskáningardags  \\\n0     NaN   NaN                      NaN  NaN         NaN             NaT   \n1     NaN   NaN                      NaN  NaN         NaN             NaT   \n2     NaN   NaN                      NaN  NaN         NaN             NaT   \n3     NaN   NaN                      NaN  NaN         NaN             NaT   \n4     NaN   NaN                      NaN  NaN         NaN             NaT   \n5     NaN   NaN                      NaN  NaN         NaN             NaT   \n6     NaN   NaN                      NaN  NaN         NaN             NaT   \n7     NaN   NaN                      NaN  NaN         NaN             NaT   \n8     NaN   NaN                      NaN  NaN         NaN             NaT   \n9     NaN   NaN                      NaN  NaN         NaN             NaT   \n\n   Unnamed: 36  \n0          NaN  \n1          NaN  \n2          NaN  \n3          NaN  \n4          NaN  \n5          NaN  \n6          NaN  \n7          NaN  \n8          NaN  \n9          NaN  \n\n[10 rows x 100 columns]",
                        "text/html": "<div>\n<style scoped>\n    .dataframe tbody tr th:only-of-type {\n        vertical-align: middle;\n    }\n\n    .dataframe tbody tr th {\n        vertical-align: top;\n    }\n\n    .dataframe thead th {\n        text-align: right;\n    }\n</style>\n<table border=\"1\" class=\"dataframe\">\n  <thead>\n    <tr style=\"text-align: right;\">\n      <th></th>\n      <th>Norrænt vörunúmer</th>\n      <th>Lyfjaheitisnúmer</th>\n      <th>Heiti lyfs</th>\n      <th>Form lyfs</th>\n      <th>Styrkur</th>\n      <th>Styrkeining</th>\n      <th>Magn</th>\n      <th>Magneining</th>\n      <th>Fj. Pakkninga</th>\n      <th>Pakkning</th>\n      <th>...</th>\n      <th>Skammtur að hámarki fyrir fjölda daga  (100,  30)</th>\n      <th>Heildsöluverð</th>\n      <th>Smásöluverð</th>\n      <th>Meðferð</th>\n      <th>Hmagn</th>\n      <th>Á undanþágulista (1, 0)</th>\n      <th>DDD</th>\n      <th>Unnamed: 1</th>\n      <th>Afskáningardags</th>\n      <th>Unnamed: 36</th>\n    </tr>\n  </thead>\n  <tbody>\n    <tr>\n      <th>0</th>\n      <td>379875.0</td>\n      <td>N05BA0105</td>\n      <td>Stesolid</td>\n      <td>eþ-lausn</td>\n      <td>5</td>\n      <td>mg/2,5ml</td>\n      <td>2,5</td>\n      <td>ml</td>\n      <td>5.0</td>\n      <td>túpa</td>\n      <td>...</td>\n      <td>NaN</td>\n      <td>NaN</td>\n      <td>NaN</td>\n      <td>NaN</td>\n      <td>NaN</td>\n      <td>NaN</td>\n      <td>NaN</td>\n      <td>NaN</td>\n      <td>NaT</td>\n      <td>NaN</td>\n    </tr>\n    <tr>\n      <th>1</th>\n      <td>379883.0</td>\n      <td>N05BA0105</td>\n      <td>Stesolid</td>\n      <td>eþ-lausn</td>\n      <td>10</td>\n      <td>mg/2,5ml</td>\n      <td>2,5</td>\n      <td>ml</td>\n      <td>5.0</td>\n      <td>túpa</td>\n      <td>...</td>\n      <td>NaN</td>\n      <td>NaN</td>\n      <td>NaN</td>\n      <td>NaN</td>\n      <td>NaN</td>\n      <td>NaN</td>\n      <td>NaN</td>\n      <td>NaN</td>\n      <td>NaT</td>\n      <td>NaN</td>\n    </tr>\n    <tr>\n      <th>2</th>\n      <td>43729.0</td>\n      <td>N05CD0503</td>\n      <td>Halcion</td>\n      <td>töflur</td>\n      <td>0,125</td>\n      <td>mg</td>\n      <td>30</td>\n      <td>stk</td>\n      <td>1.0</td>\n      <td>þpakki</td>\n      <td>...</td>\n      <td>NaN</td>\n      <td>NaN</td>\n      <td>NaN</td>\n      <td>NaN</td>\n      <td>NaN</td>\n      <td>NaN</td>\n      <td>NaN</td>\n      <td>NaN</td>\n      <td>NaT</td>\n      <td>NaN</td>\n    </tr>\n    <tr>\n      <th>3</th>\n      <td>48199.0</td>\n      <td>A03CA0201</td>\n      <td>Librax</td>\n      <td>töflur</td>\n      <td>NaN</td>\n      <td>NaN</td>\n      <td>100</td>\n      <td>stk</td>\n      <td>1.0</td>\n      <td>glas</td>\n      <td>...</td>\n      <td>NaN</td>\n      <td>NaN</td>\n      <td>NaN</td>\n      <td>NaN</td>\n      <td>NaN</td>\n      <td>NaN</td>\n      <td>NaN</td>\n      <td>NaN</td>\n      <td>NaT</td>\n      <td>NaN</td>\n    </tr>\n    <tr>\n      <th>4</th>\n      <td>52286.0</td>\n      <td>N05BA1205</td>\n      <td>Alprazolam Mylan</td>\n      <td>töflur</td>\n      <td>0,25</td>\n      <td>mg</td>\n      <td>20</td>\n      <td>stk</td>\n      <td>1.0</td>\n      <td>þpakki</td>\n      <td>...</td>\n      <td>NaN</td>\n      <td>NaN</td>\n      <td>NaN</td>\n      <td>NaN</td>\n      <td>NaN</td>\n      <td>NaN</td>\n      <td>NaN</td>\n      <td>NaN</td>\n      <td>NaT</td>\n      <td>NaN</td>\n    </tr>\n    <tr>\n      <th>5</th>\n      <td>52297.0</td>\n      <td>N05BA1205</td>\n      <td>Alprazolam Mylan</td>\n      <td>töflur</td>\n      <td>0,25</td>\n      <td>mg</td>\n      <td>50</td>\n      <td>stk</td>\n      <td>1.0</td>\n      <td>þpakki</td>\n      <td>...</td>\n      <td>NaN</td>\n      <td>NaN</td>\n      <td>NaN</td>\n      <td>NaN</td>\n      <td>NaN</td>\n      <td>NaN</td>\n      <td>NaN</td>\n      <td>NaN</td>\n      <td>NaT</td>\n      <td>NaN</td>\n    </tr>\n    <tr>\n      <th>6</th>\n      <td>52309.0</td>\n      <td>N05BA1205</td>\n      <td>Alprazolam Mylan</td>\n      <td>töflur</td>\n      <td>0,5</td>\n      <td>mg</td>\n      <td>20</td>\n      <td>stk</td>\n      <td>1.0</td>\n      <td>þpakki</td>\n      <td>...</td>\n      <td>NaN</td>\n      <td>NaN</td>\n      <td>NaN</td>\n      <td>NaN</td>\n      <td>NaN</td>\n      <td>NaN</td>\n      <td>NaN</td>\n      <td>NaN</td>\n      <td>NaT</td>\n      <td>NaN</td>\n    </tr>\n    <tr>\n      <th>7</th>\n      <td>52320.0</td>\n      <td>N05BA1205</td>\n      <td>Alprazolam Mylan</td>\n      <td>töflur</td>\n      <td>0,5</td>\n      <td>mg</td>\n      <td>50</td>\n      <td>stk</td>\n      <td>1.0</td>\n      <td>þpakki</td>\n      <td>...</td>\n      <td>NaN</td>\n      <td>NaN</td>\n      <td>NaN</td>\n      <td>NaN</td>\n      <td>NaN</td>\n      <td>NaN</td>\n      <td>NaN</td>\n      <td>NaN</td>\n      <td>NaT</td>\n      <td>NaN</td>\n    </tr>\n    <tr>\n      <th>8</th>\n      <td>52331.0</td>\n      <td>N05BA1205</td>\n      <td>Alprazolam Mylan</td>\n      <td>töflur</td>\n      <td>0,25</td>\n      <td>mg</td>\n      <td>100</td>\n      <td>stk</td>\n      <td>1.0</td>\n      <td>glas</td>\n      <td>...</td>\n      <td>NaN</td>\n      <td>NaN</td>\n      <td>NaN</td>\n      <td>NaN</td>\n      <td>NaN</td>\n      <td>NaN</td>\n      <td>NaN</td>\n      <td>NaN</td>\n      <td>NaT</td>\n      <td>NaN</td>\n    </tr>\n    <tr>\n      <th>9</th>\n      <td>70203.0</td>\n      <td>N05CF0107</td>\n      <td>Imomed</td>\n      <td>filmhtfl</td>\n      <td>7,5</td>\n      <td>mg</td>\n      <td>30</td>\n      <td>stk</td>\n      <td>1.0</td>\n      <td>þpakki</td>\n      <td>...</td>\n      <td>NaN</td>\n      <td>NaN</td>\n      <td>NaN</td>\n      <td>NaN</td>\n      <td>NaN</td>\n      <td>NaN</td>\n      <td>NaN</td>\n      <td>NaN</td>\n      <td>NaT</td>\n      <td>NaN</td>\n    </tr>\n  </tbody>\n</table>\n<p>10 rows × 100 columns</p>\n</div>"
                    },
                    "metadata": {},
                    "execution_count": 367,
                    "output_type": "execute_result"
                }
            ],
            "execution_count": 367
        },
        {
            "cell_type": "markdown",
            "source": [
                "# **Transform**"
            ],
            "metadata": {
                "azdata_cell_guid": "1027e0af-9433-4f12-bf39-61131f975844",
                "tags": []
            }
        },
        {
            "cell_type": "markdown",
            "source": [
                "Throughout the years the columns have different names, e.g.\n",
                "\n",
                "```\n",
                "   form   Styrkur Styrk form lyfs\n",
                "0   töflur 1.0    NaN   NaN   \n",
                "1   töflur 5.0    NaN   NaN   \n",
                "2   NaN    NaN    1.0   töflur   \n",
                "3   NaN    NaN    1.0   töflur   \n",
                "4   NaN    NaN    1.0   töflur\n",
                "```"
            ],
            "metadata": {
                "azdata_cell_guid": "e855aeb1-5c8e-46c2-bfb9-9b9833d766ec"
            }
        },
        {
            "cell_type": "markdown",
            "source": [
                "Time to clean the data as best we can. Lets merge all the data and rename some columns to something clearer."
            ],
            "metadata": {
                "azdata_cell_guid": "59b74a22-9a12-4a69-a8e0-147f7ba6d6cf"
            }
        },
        {
            "cell_type": "code",
            "source": [
                "data['Norrænt vörunúmer'] = data['Norrænt vörunúmer'].combine_first(data['Nvnr'])\r\n",
                "data['Form'] = data['Form lyfs'].combine_first(data['Form'])\r\n",
                "data['Heiti'] = data['Heiti lyfs'].combine_first(data['Heiti'])\r\n",
                "data['Fj. Pakkninga'] = data['Fj. Pakkninga'].combine_first(data['Fjöldi pakkninga'])\r\n",
                "data['Fj. Pakkninga'] = data['Fj. Pakkninga'].combine_first(data['Fj í pakkningu'])\r\n",
                "data['Tannlæknir ávísar'] = data['Tannlæknir ávísar'].combine_first(data['Tannlæknir ávísar (1, 0)'])\r\n",
                "data['Dýralæknir ávísar'] = data['Dýralæknir ávísar'].combine_first(data['Dýralæknir ávísar  (1, 0)'])\r\n",
                "data['Sérfræðingur ávísar'] = data['Sérfræðingur ávísar'].combine_first(data['Sérfræðingur ávísar  (1, 0)'])\r\n",
                "data['Markaðsleyfishafi kóði'] = data['Markaðsleyfishafi kóði'].combine_first(data['Markaðsleyfishafi-Kódi'])\r\n",
                "data['Sjúkrahúslyf'] = data['Sjúkrahúslyf'].combine_first(data['Sjúkrahúslyf  (1, 0)'])\r\n",
                "data['Á undanþágulista'] = data['Á undanþágulista'].combine_first(data['Á undanþágulista (1, 0)'])\r\n",
                "data['Greiðsluþátttökuverð'] = data['Greiðsluþátttökuverð'].combine_first(data['Greiðsluþátttökusmásöluverð'])\r\n",
                "data['Skammtur, hámark daga'] = data['Skammtur, hámark daga'].combine_first(data['Skammtur að hámarki fyrir fjölda daga  (100,  30)'])\r\n",
                "data['DDD'] = data['DDD á pakkningu'].combine_first(data['DDD'])\r\n",
                "data['Styrkur'] = data['Styrkur'].combine_first(data['Tölugildi styrks'])\r\n",
                "data['Styrkeining'] = data['Styrkeining'].combine_first(data['Einingar styrks'])\r\n",
                "data['Styrkeining'] = data['Styrkeining'].combine_first(data['Einstyrks'])\r\n",
                "data['Styrkeining'] = data['Styrkeining'].combine_first(data['Eining styrks'])\r\n",
                "data['Magn'] = data['Magn'].combine_first(data['Tölugildi magns'])\r\n",
                "data['Magneining'] = data['Magneining'].combine_first(data['Einingar magns'])\r\n",
                "data['Magneining'] = data['Magneining'].combine_first(data['Einmagns'])\r\n",
                "data['Heildarmagn'] = data['Heildarmagn'].combine_first(data['Hmagn'])\r\n",
                "data['Meðferð'] = data['Meðferð'].combine_first(data['Leiðbeiningar um meðferð'])\r\n",
                "data['Geymsluþol'] = data['Geymsluþol'].combine_first(data['Geymsluþol  (F,H,K,S,A)'])\r\n",
                "data['Geymsluþol'] = data['Geymsluþol'].combine_first(data['Geymslutími (0-5, G>= 5ár)'])\r\n",
                "data['Viðmiðunargjaldmiðill'] = data['Viðmiðunargjaldmiðill'].combine_first(data['Viðmiðunargjald'])\r\n",
                "data['Ákvörðun LGN'] = data['Ákvörðun LGN um greiðsluþátttöku'].combine_first(data['Ákvörðun LGN'])\r\n",
                "data['Greiðsluhlutur SÍ'] = data['Greiðsluhlutur SÍ'].combine_first(data['Greiðsluhlutur TR'])\r\n",
                "data['Geðlyf á geðdeild'] = data['Geðlyf á geðdeild'].combine_first(data['Geðlyf á geðdeild  (1, 0)'])\r\n",
                "data['Eftirritunarskylt'] = data['Eftirritunarskylt'].combine_first(data['Eftirritunarskylt  (1, 0)'])\r\n",
                "data['Skráningardagsetning'] = data['Skráningardagsetning'].combine_first(data['Skráningardags'])\r\n",
                "data['Afskráningardagsetning'] = data['Afskráningardagsetning'].combine_first(data['Afskáningardags'])\r\n",
                "data['Afskráningardagsetning'] = data['Afskráningardagsetning'].combine_first(data['Afskráning'])\r\n",
                "\r\n",
                "## Drop our merged columns\r\n",
                "data = data.drop(columns=[\r\n",
                "'Norrænt vörunúmer',\r\n",
                "'Form lyfs',\r\n",
                "'Fjöldi pakkninga','Fj í pakkningu',\r\n",
                "'Tannlæknir ávísar (1, 0)',\r\n",
                "'Heiti lyfs',\r\n",
                "'Markaðsleyfishafi kóði',\r\n",
                "'Dýralæknir ávísar  (1, 0)',\r\n",
                "'Sérfræðingur ávísar  (1, 0)',\r\n",
                "'Sjúkrahúslyf  (1, 0)',\r\n",
                "'Á undanþágulista (1, 0)',\r\n",
                "'Greiðsluþátttökusmásöluverð',\r\n",
                "'Skammtur að hámarki fyrir fjölda daga  (100,  30)',\r\n",
                "'DDD á pakkningu',\r\n",
                "'Styrkeining','Einstyrks','Einingar styrks','Eining styrks','Tölugildi styrks',\r\n",
                "'Magneining','Einmagns','Einingar magns','Tölugildi magns',\r\n",
                "'Heildarmagn',\r\n",
                "'Meðferð',\r\n",
                "'Unnamed: 0','Unnamed: 1','Unnamed: 36',\r\n",
                "'Viðmiðunargjald',\r\n",
                "'Ákvörðun LGN um greiðsluþátttöku',\r\n",
                "'Greiðsluhlutur TR',\r\n",
                "'Geðlyf á geðdeild  (1, 0)',\r\n",
                "'Eftirritunarskylt  (1, 0)',\r\n",
                "'Skráningardags',\r\n",
                "'Geymsluþol  (F,H,K,S,A)',\r\n",
                "'Afskráning','Afskáningardags'])\r\n",
                ""
            ],
            "metadata": {
                "azdata_cell_guid": "cda2bc39-b8c0-46ee-aa79-beed469a1a4d",
                "tags": []
            },
            "outputs": [],
            "execution_count": 368
        },
        {
            "cell_type": "code",
            "source": [
                "data = data.rename(columns={\r\n",
                "'Afgreiðslumáti  (R,L,U)':'Afgreiðslumáti',\r\n",
                "'Geymslutími (0-5, G>= 5ár)':'Geymslutími',\r\n",
                "'Greiðsluhlutur Tr  (0,*,B,E)':'Greiðsluhlutur Tr'\r\n",
                "})"
            ],
            "metadata": {
                "azdata_cell_guid": "53f34ae7-f34e-47ad-bd73-9427a3f0e3f6",
                "tags": []
            },
            "outputs": [],
            "execution_count": 369
        },
        {
            "cell_type": "code",
            "source": [
                "data['Hámarks heildsöluverð'] = data['Hámarks heildsöluverð'].str.replace(r'\\.', '')\r\n",
                "data['Hámarks heildsöluverð'] = data[['Hámarks heildsöluverð']].apply(pd.to_numeric)\r\n",
                "data['Hámarks smásöluverð'] = data['Hámarks smásöluverð'].str.replace(r'\\.', '')\r\n",
                "data['Hámarks smásöluverð'] = data[['Hámarks smásöluverð']].apply(pd.to_numeric)\r\n",
                "data['Lyfjaframleiðenda heildsöluverð'] = data['Lyfjaframleiðenda heildsöluverð'].str.replace(r'\\.', '')\r\n",
                "data['Lyfjaframleiðenda heildsöluverð'] = data[['Lyfjaframleiðenda heildsöluverð']].apply(pd.to_numeric)"
            ],
            "metadata": {
                "azdata_cell_guid": "eeb8ecf7-f493-473c-aad0-b06243aa3ca7",
                "tags": []
            },
            "outputs": [
{
    "traceback": [
        "\u001b[1;31m---------------------------------------------------------------------------\u001b[0m",
        "\u001b[1;31mKeyError\u001b[0m                                  Traceback (most recent call last)",
        "\u001b[1;32m<ipython-input-372-d8adf8ac1c35>\u001b[0m in \u001b[0;36m<module>\u001b[1;34m\u001b[0m\n\u001b[0;32m      6\u001b[0m \u001b[0mdata\u001b[0m\u001b[1;33m[\u001b[0m\u001b[1;34m'Lyfjaframleiðenda heildsöluverð'\u001b[0m\u001b[1;33m]\u001b[0m \u001b[1;33m=\u001b[0m \u001b[0mdata\u001b[0m\u001b[1;33m[\u001b[0m\u001b[1;33m[\u001b[0m\u001b[1;34m'Lyfjaframleiðenda heildsöluverð'\u001b[0m\u001b[1;33m]\u001b[0m\u001b[1;33m]\u001b[0m\u001b[1;33m.\u001b[0m\u001b[0mapply\u001b[0m\u001b[1;33m(\u001b[0m\u001b[0mpd\u001b[0m\u001b[1;33m.\u001b[0m\u001b[0mto_numeric\u001b[0m\u001b[1;33m)\u001b[0m\u001b[1;33m\u001b[0m\u001b[1;33m\u001b[0m\u001b[0m\n\u001b[0;32m      7\u001b[0m \u001b[1;31m#data['Skammtur að hámarki fyrir fjölda daga  (100,  30)'] = data['Skammtur að hámarki fyrir fjölda daga  (100,  30)'].str.replace(r'\\.', '')\u001b[0m\u001b[1;33m\u001b[0m\u001b[1;33m\u001b[0m\u001b[1;33m\u001b[0m\u001b[0m\n\u001b[1;32m----> 8\u001b[1;33m \u001b[0mdata\u001b[0m\u001b[1;33m[\u001b[0m\u001b[1;34m'Skammtur að hámarki fyrir fjölda daga  (100,  30)'\u001b[0m\u001b[1;33m]\u001b[0m \u001b[1;33m=\u001b[0m \u001b[0mdata\u001b[0m\u001b[1;33m[\u001b[0m\u001b[1;33m[\u001b[0m\u001b[1;34m'Skammtur að hámarki fyrir fjölda daga  (100,  30)'\u001b[0m\u001b[1;33m]\u001b[0m\u001b[1;33m]\u001b[0m\u001b[1;33m.\u001b[0m\u001b[0mapply\u001b[0m\u001b[1;33m(\u001b[0m\u001b[0mpd\u001b[0m\u001b[1;33m.\u001b[0m\u001b[0mto_numeric\u001b[0m\u001b[1;33m)\u001b[0m\u001b[1;33m\u001b[0m\u001b[1;33m\u001b[0m\u001b[0m\n\u001b[0m",
        "\u001b[1;32m~\\AppData\\Local\\Programs\\Python\\Python39\\lib\\site-packages\\pandas\\core\\frame.py\u001b[0m in \u001b[0;36m__getitem__\u001b[1;34m(self, key)\u001b[0m\n\u001b[0;32m   3028\u001b[0m             \u001b[1;32mif\u001b[0m \u001b[0mis_iterator\u001b[0m\u001b[1;33m(\u001b[0m\u001b[0mkey\u001b[0m\u001b[1;33m)\u001b[0m\u001b[1;33m:\u001b[0m\u001b[1;33m\u001b[0m\u001b[1;33m\u001b[0m\u001b[0m\n\u001b[0;32m   3029\u001b[0m                 \u001b[0mkey\u001b[0m \u001b[1;33m=\u001b[0m \u001b[0mlist\u001b[0m\u001b[1;33m(\u001b[0m\u001b[0mkey\u001b[0m\u001b[1;33m)\u001b[0m\u001b[1;33m\u001b[0m\u001b[1;33m\u001b[0m\u001b[0m\n\u001b[1;32m-> 3030\u001b[1;33m             \u001b[0mindexer\u001b[0m \u001b[1;33m=\u001b[0m \u001b[0mself\u001b[0m\u001b[1;33m.\u001b[0m\u001b[0mloc\u001b[0m\u001b[1;33m.\u001b[0m\u001b[0m_get_listlike_indexer\u001b[0m\u001b[1;33m(\u001b[0m\u001b[0mkey\u001b[0m\u001b[1;33m,\u001b[0m \u001b[0maxis\u001b[0m\u001b[1;33m=\u001b[0m\u001b[1;36m1\u001b[0m\u001b[1;33m,\u001b[0m \u001b[0mraise_missing\u001b[0m\u001b[1;33m=\u001b[0m\u001b[1;32mTrue\u001b[0m\u001b[1;33m)\u001b[0m\u001b[1;33m[\u001b[0m\u001b[1;36m1\u001b[0m\u001b[1;33m]\u001b[0m\u001b[1;33m\u001b[0m\u001b[1;33m\u001b[0m\u001b[0m\n\u001b[0m\u001b[0;32m   3031\u001b[0m \u001b[1;33m\u001b[0m\u001b[0m\n\u001b[0;32m   3032\u001b[0m         \u001b[1;31m# take() does not accept boolean indexers\u001b[0m\u001b[1;33m\u001b[0m\u001b[1;33m\u001b[0m\u001b[1;33m\u001b[0m\u001b[0m\n",
        "\u001b[1;32m~\\AppData\\Local\\Programs\\Python\\Python39\\lib\\site-packages\\pandas\\core\\indexing.py\u001b[0m in \u001b[0;36m_get_listlike_indexer\u001b[1;34m(self, key, axis, raise_missing)\u001b[0m\n\u001b[0;32m   1264\u001b[0m             \u001b[0mkeyarr\u001b[0m\u001b[1;33m,\u001b[0m \u001b[0mindexer\u001b[0m\u001b[1;33m,\u001b[0m \u001b[0mnew_indexer\u001b[0m \u001b[1;33m=\u001b[0m \u001b[0max\u001b[0m\u001b[1;33m.\u001b[0m\u001b[0m_reindex_non_unique\u001b[0m\u001b[1;33m(\u001b[0m\u001b[0mkeyarr\u001b[0m\u001b[1;33m)\u001b[0m\u001b[1;33m\u001b[0m\u001b[1;33m\u001b[0m\u001b[0m\n\u001b[0;32m   1265\u001b[0m \u001b[1;33m\u001b[0m\u001b[0m\n\u001b[1;32m-> 1266\u001b[1;33m         \u001b[0mself\u001b[0m\u001b[1;33m.\u001b[0m\u001b[0m_validate_read_indexer\u001b[0m\u001b[1;33m(\u001b[0m\u001b[0mkeyarr\u001b[0m\u001b[1;33m,\u001b[0m \u001b[0mindexer\u001b[0m\u001b[1;33m,\u001b[0m \u001b[0maxis\u001b[0m\u001b[1;33m,\u001b[0m \u001b[0mraise_missing\u001b[0m\u001b[1;33m=\u001b[0m\u001b[0mraise_missing\u001b[0m\u001b[1;33m)\u001b[0m\u001b[1;33m\u001b[0m\u001b[1;33m\u001b[0m\u001b[0m\n\u001b[0m\u001b[0;32m   1267\u001b[0m         \u001b[1;32mreturn\u001b[0m \u001b[0mkeyarr\u001b[0m\u001b[1;33m,\u001b[0m \u001b[0mindexer\u001b[0m\u001b[1;33m\u001b[0m\u001b[1;33m\u001b[0m\u001b[0m\n\u001b[0;32m   1268\u001b[0m \u001b[1;33m\u001b[0m\u001b[0m\n",
        "\u001b[1;32m~\\AppData\\Local\\Programs\\Python\\Python39\\lib\\site-packages\\pandas\\core\\indexing.py\u001b[0m in \u001b[0;36m_validate_read_indexer\u001b[1;34m(self, key, indexer, axis, raise_missing)\u001b[0m\n\u001b[0;32m   1306\u001b[0m             \u001b[1;32mif\u001b[0m \u001b[0mmissing\u001b[0m \u001b[1;33m==\u001b[0m \u001b[0mlen\u001b[0m\u001b[1;33m(\u001b[0m\u001b[0mindexer\u001b[0m\u001b[1;33m)\u001b[0m\u001b[1;33m:\u001b[0m\u001b[1;33m\u001b[0m\u001b[1;33m\u001b[0m\u001b[0m\n\u001b[0;32m   1307\u001b[0m                 \u001b[0maxis_name\u001b[0m \u001b[1;33m=\u001b[0m \u001b[0mself\u001b[0m\u001b[1;33m.\u001b[0m\u001b[0mobj\u001b[0m\u001b[1;33m.\u001b[0m\u001b[0m_get_axis_name\u001b[0m\u001b[1;33m(\u001b[0m\u001b[0maxis\u001b[0m\u001b[1;33m)\u001b[0m\u001b[1;33m\u001b[0m\u001b[1;33m\u001b[0m\u001b[0m\n\u001b[1;32m-> 1308\u001b[1;33m                 \u001b[1;32mraise\u001b[0m \u001b[0mKeyError\u001b[0m\u001b[1;33m(\u001b[0m\u001b[1;34mf\"None of [{key}] are in the [{axis_name}]\"\u001b[0m\u001b[1;33m)\u001b[0m\u001b[1;33m\u001b[0m\u001b[1;33m\u001b[0m\u001b[0m\n\u001b[0m\u001b[0;32m   1309\u001b[0m \u001b[1;33m\u001b[0m\u001b[0m\n\u001b[0;32m   1310\u001b[0m             \u001b[0max\u001b[0m \u001b[1;33m=\u001b[0m \u001b[0mself\u001b[0m\u001b[1;33m.\u001b[0m\u001b[0mobj\u001b[0m\u001b[1;33m.\u001b[0m\u001b[0m_get_axis\u001b[0m\u001b[1;33m(\u001b[0m\u001b[0maxis\u001b[0m\u001b[1;33m)\u001b[0m\u001b[1;33m\u001b[0m\u001b[1;33m\u001b[0m\u001b[0m\n",
        "\u001b[1;31mKeyError\u001b[0m: \"None of [Index(['Skammtur að hámarki fyrir fjölda daga  (100,  30)'], dtype='object')] are in the [columns]\""
    ],
    "ename": "KeyError",
    "evalue": "\"None of [Index(['Skammtur að hámarki fyrir fjölda daga  (100,  30)'], dtype='object')] are in the [columns]\"",
    "output_type": "error"
}
],
            "execution_count": 363
        },
        {
            "cell_type": "code",
            "source": [
                "data.columns"
            ],
            "metadata": {
                "azdata_cell_guid": "098e2f0f-1cd6-4b57-a060-51a65908aec4"
            },
            "outputs": [
                {
                    "data": {
                        "text/plain": "Index(['Lyfjaheitisnúmer', 'Styrkur', 'Magn', 'Fj. Pakkninga', 'Pakkning',\n       'Athugasemdir', 'ATC-flokkur', 'Skráningardagsetning',\n       'Afskráningardagsetning', 'Afgreiðslumáti', 'Skömmtunarmöguleikar ',\n       'Öryggiskröfur LST', 'Sérfræðingur ávísar', 'Greiðsluhlutur SÍ',\n       'Sjúkrahúslyf', 'Dýralæknir ávísar', 'Leyfisskyld lyf ',\n       'Tannlæknir ávísar', 'Skammtur, hámark daga', 'Viðmiðunargjaldmiðill',\n       'Hámarks heildsöluverð', 'Hámarks smásöluverð', 'Álagningarflokkur',\n       'Viðmiðunarverðflokkur', 'Viðmiðunarverð', 'Staða lyfs ',\n       'Á undanþágulista', 'Umboðsaðili', 'Markaðsleyfishafi',\n       'Heiti virka innihaldsefnis', 'Lyfjaframleiðenda heildsöluverð',\n       'Umboðsmanna heildsöluverð', 'Heildsölu heildsöluverð',\n       'Innkaupsverð apóteka', 'Greiðsluþátttökuverð',\n       'Fellt úr lyfjaverðskrá vegna birgðaskorts', 'Heildsali', 'H merking',\n       'Ávana og fíknilyf', 'Ávana og fíknilyf magn',\n       'Ávana og fíknilyf eining', 'Hjúkr-/ljósm ávísar', 'file',\n       'Eftirritunarskylt', 'GTIN númer', 'Ákvörðun LGN', 'Geymsluskilyrði',\n       'Geymsluþol', 'Geðlyf á geðdeild', 'Leiðbeiningar um meðferð',\n       'Markaðsfyrirtækja/umboðsmanna heildsöluverð', 'Mismunur', 'Nvnr',\n       'Heiti', 'Form', 'Afgreiðslumáti', 'Geymslutími', 'Greiðsluhlutur Tr',\n       'Markaðsleyfishafi-Kódi', 'Heildsöluverð', 'Smásöluverð', 'Hmagn',\n       'DDD'],\n      dtype='object')"
                    },
                    "metadata": {},
                    "execution_count": 347,
                    "output_type": "execute_result"
                }
            ],
            "execution_count": 347
        },
        {
            "cell_type": "markdown",
            "source": [
                "There's no load step since this is a simple notebook so let's just see some data"
            ],
            "metadata": {
                "azdata_cell_guid": "f86dc866-d83e-4b43-b927-55a48224332d"
            }
        },
        {
            "cell_type": "markdown",
            "source": [
                "### For each file released throughout the years, what was the most expensive wholesale drug?"
            ],
            "metadata": {
                "azdata_cell_guid": "edd35ecd-28f3-4b9e-a762-7f3b45a5dd20"
            }
        },
        {
            "cell_type": "code",
            "source": [
                "#data.groupby(['file','Heiti'])['Hámarks heildsöluverð'].unique()\r\n",
                "\r\n",
                "test = data[['Hámarks heildsöluverð']].apply(pd.to_numeric)"
            ],
            "metadata": {
                "azdata_cell_guid": "8a743eb4-33b4-4e19-89df-1b8274899fc8"
            },
            "outputs": [],
            "execution_count": 348
        },
        {
            "cell_type": "code",
            "source": [
                "n = 100\r\n",
                "idx = pd.date_range(start=datetime(2016, 1, 1, 10), freq='10Min', periods=n)\r\n",
                "data = pd.DataFrame(data={'price': ),\r\n",
                "                          'volume': np.random.randint(low=100, high=10000, size=n)}, index=idx)\r\n",
                "\r\n",
                "fig, ax = plt.subplots(nrows=2, sharex=True, figsize=(15,8))\r\n",
                "\r\n",
                "ax[0].plot(data.index, data.price)\r\n",
                "ax[1].bar(data.index, data.volume, width=1/(5*len(data.index)))\r\n",
                "\r\n",
                "xfmt = mpl.dates.DateFormatter('%H:%M')\r\n",
                "ax[1].xaxis.set_major_locator(mpl.dates.HourLocator(interval=3))\r\n",
                "ax[1].xaxis.set_major_formatter(xfmt)\r\n",
                "\r\n",
                "ax[1].xaxis.set_minor_locator(mpl.dates.HourLocator(interval=1))\r\n",
                "ax[1].xaxis.set_minor_formatter(xfmt)\r\n",
                "\r\n",
                "ax[1].get_xaxis().set_tick_params(which='major', pad=25)\r\n",
                "\r\n",
                "fig.autofmt_xdate()\r\n",
                "plt.show()"
            ],
            "metadata": {
                "azdata_cell_guid": "4b3623d8-641b-4c15-89c2-7cd148c6ca1e"
            },
            "outputs": [
                {
                    "traceback": [
                        "\u001b[1;36m  File \u001b[1;32m\"<ipython-input-349-88420184a3bb>\"\u001b[1;36m, line \u001b[1;32m3\u001b[0m\n\u001b[1;33m    data = pd.DataFrame(data={'price': ),\u001b[0m\n\u001b[1;37m                                       ^\u001b[0m\n\u001b[1;31mSyntaxError\u001b[0m\u001b[1;31m:\u001b[0m closing parenthesis ')' does not match opening parenthesis '{'\n"
                    ],
                    "ename": "SyntaxError",
                    "evalue": "closing parenthesis ')' does not match opening parenthesis '{' (<ipython-input-349-88420184a3bb>, line 3)",
                    "output_type": "error"
                }
            ],
            "execution_count": 349
        }
    ]
}