{
    "metadata": {
        "kernelspec": {
            "name": "python3",
            "display_name": "Python 3",
            "language": "python"
        },
        "language_info": {
            "name": "python",
            "version": "3.9.2",
            "mimetype": "text/x-python",
            "codemirror_mode": {
                "name": "ipython",
                "version": 3
            },
            "pygments_lexer": "ipython3",
            "nbconvert_exporter": "python",
            "file_extension": ".py"
        }
    },
    "nbformat_minor": 2,
    "nbformat": 4,
    "cells": [
        {
            "cell_type": "code",
            "source": [
                "import requests\r\n",
                "import re\r\n",
                "import pandas as pd\r\n",
                "import io\r\n",
                "import html5lib\r\n",
                "from bs4 import BeautifulSoup as bs\r\n",
                "from IPython.display import clear_output\r\n",
                "import platform"
            ],
            "metadata": {
                "azdata_cell_guid": "4b0819d9-6aa3-4782-a926-6bf8da0ab601",
                "tags": [
                    "hide_input"
                ]
            },
            "outputs": [],
            "execution_count": 81
        },
        {
            "cell_type": "markdown",
            "source": [
                "Any urls we may need"
            ],
            "metadata": {
                "azdata_cell_guid": "af5656d4-dd7d-4838-a6de-bbb55b6906f8"
            }
        },
        {
            "cell_type": "code",
            "source": [
                "_BASE_URL = 'https://verd.lyfjastofnun.is/'\r\n",
                "_URL = 'https://verd.lyfjastofnun.is/?pageid=10'"
            ],
            "metadata": {
                "azdata_cell_guid": "8795abca-b3a9-4586-81dd-143b6ffadfff",
                "tags": []
            },
            "outputs": [],
            "execution_count": 82
        },
        {
            "cell_type": "markdown",
            "source": [
                "Fetch the urls of all excel files, do not get xlsx files that were uploaded due to them being a security issue.\n",
                "\n",
                "https://stackoverflow.com/questions/65250207/pandas-cannot-open-an-excel-xlsx-file"
            ],
            "metadata": {
                "azdata_cell_guid": "5ad4ab76-b5ad-40a7-8250-63141850de53"
            }
        },
        {
            "cell_type": "code",
            "source": [
                "r = requests.get(_URL)\r\n",
                "soup = bs(r.text)\r\n",
                "#xlsx\r\n",
                "_links = soup.find_all('a', {'href': re.compile(r'verdskra.*\\.xls$')})"
            ],
            "metadata": {
                "azdata_cell_guid": "8af0a5bb-d276-497d-9eb9-e76f88568273"
            },
            "outputs": [],
            "execution_count": 83
        },
        {
            "cell_type": "markdown",
            "source": [
                "Iterate through all excel files and add to our dataframe for processing.\n",
                "\n",
                "Skip the first file as it simply explains the columns of the rest of the files."
            ],
            "metadata": {
                "azdata_cell_guid": "5fa3f3ef-41a2-4021-9824-f3e22dd19346"
            }
        },
        {
            "cell_type": "code",
            "source": [
                "appended_data = []\r\n",
                "for index, link in enumerate(_links[1:]):\r\n",
                "    price_link = link.get(\"href\")\r\n",
                "    file_name = re.search('gogn/(.*).xls',price_link).group(1)\r\n",
                "    response = requests.get(_BASE_URL + price_link).content\r\n",
                "    inc_data = pd.read_excel(response).assign(file=file_name)\r\n",
                "    appended_data.append(inc_data)\r\n",
                "\r\n",
                "data = pd.concat(appended_data)\r\n",
                "data.head(10)"
            ],
            "metadata": {
                "azdata_cell_guid": "17728f2e-3323-4943-ac35-dc6a5605fbb8",
                "tags": []
            },
            "outputs": [
                {
                    "data": {
                        "text/plain": "   Norrænt vörunúmer Lyfjaheitisnúmer        Heiti lyfs Form lyfs Styrkur  \\\n0           379875.0        N05BA0105          Stesolid  eþ-lausn       5   \n1           379883.0        N05BA0105          Stesolid  eþ-lausn      10   \n2            43729.0        N05CD0503           Halcion    töflur   0,125   \n3            48199.0        A03CA0201            Librax    töflur     NaN   \n4            52286.0        N05BA1205  Alprazolam Mylan    töflur    0,25   \n5            52297.0        N05BA1205  Alprazolam Mylan    töflur    0,25   \n6            52309.0        N05BA1205  Alprazolam Mylan    töflur     0,5   \n7            52320.0        N05BA1205  Alprazolam Mylan    töflur     0,5   \n8            52331.0        N05BA1205  Alprazolam Mylan    töflur    0,25   \n9            70203.0        N05CF0107            Imomed  filmhtfl     7,5   \n\n  Styrkeining Magn Magneining  Fj. Pakkninga Pakkning  ...  \\\n0    mg/2,5ml  2,5         ml            5.0     túpa  ...   \n1    mg/2,5ml  2,5         ml            5.0     túpa  ...   \n2          mg   30        stk            1.0   þpakki  ...   \n3         NaN  100        stk            1.0     glas  ...   \n4          mg   20        stk            1.0   þpakki  ...   \n5          mg   50        stk            1.0   þpakki  ...   \n6          mg   20        stk            1.0   þpakki  ...   \n7          mg   50        stk            1.0   þpakki  ...   \n8          mg  100        stk            1.0     glas  ...   \n9          mg   30        stk            1.0   þpakki  ...   \n\n  Skammtur að hámarki fyrir fjölda daga  (100,  30) Heildsöluverð Smásöluverð  \\\n0                                               NaN           NaN         NaN   \n1                                               NaN           NaN         NaN   \n2                                               NaN           NaN         NaN   \n3                                               NaN           NaN         NaN   \n4                                               NaN           NaN         NaN   \n5                                               NaN           NaN         NaN   \n6                                               NaN           NaN         NaN   \n7                                               NaN           NaN         NaN   \n8                                               NaN           NaN         NaN   \n9                                               NaN           NaN         NaN   \n\n  Meðferð Hmagn  Á undanþágulista (1, 0)  DDD  Unnamed: 1 Afskáningardags  \\\n0     NaN   NaN                      NaN  NaN         NaN             NaT   \n1     NaN   NaN                      NaN  NaN         NaN             NaT   \n2     NaN   NaN                      NaN  NaN         NaN             NaT   \n3     NaN   NaN                      NaN  NaN         NaN             NaT   \n4     NaN   NaN                      NaN  NaN         NaN             NaT   \n5     NaN   NaN                      NaN  NaN         NaN             NaT   \n6     NaN   NaN                      NaN  NaN         NaN             NaT   \n7     NaN   NaN                      NaN  NaN         NaN             NaT   \n8     NaN   NaN                      NaN  NaN         NaN             NaT   \n9     NaN   NaN                      NaN  NaN         NaN             NaT   \n\n   Unnamed: 36  \n0          NaN  \n1          NaN  \n2          NaN  \n3          NaN  \n4          NaN  \n5          NaN  \n6          NaN  \n7          NaN  \n8          NaN  \n9          NaN  \n\n[10 rows x 100 columns]",
                        "text/html": "<div>\n<style scoped>\n    .dataframe tbody tr th:only-of-type {\n        vertical-align: middle;\n    }\n\n    .dataframe tbody tr th {\n        vertical-align: top;\n    }\n\n    .dataframe thead th {\n        text-align: right;\n    }\n</style>\n<table border=\"1\" class=\"dataframe\">\n  <thead>\n    <tr style=\"text-align: right;\">\n      <th></th>\n      <th>Norrænt vörunúmer</th>\n      <th>Lyfjaheitisnúmer</th>\n      <th>Heiti lyfs</th>\n      <th>Form lyfs</th>\n      <th>Styrkur</th>\n      <th>Styrkeining</th>\n      <th>Magn</th>\n      <th>Magneining</th>\n      <th>Fj. Pakkninga</th>\n      <th>Pakkning</th>\n      <th>...</th>\n      <th>Skammtur að hámarki fyrir fjölda daga  (100,  30)</th>\n      <th>Heildsöluverð</th>\n      <th>Smásöluverð</th>\n      <th>Meðferð</th>\n      <th>Hmagn</th>\n      <th>Á undanþágulista (1, 0)</th>\n      <th>DDD</th>\n      <th>Unnamed: 1</th>\n      <th>Afskáningardags</th>\n      <th>Unnamed: 36</th>\n    </tr>\n  </thead>\n  <tbody>\n    <tr>\n      <th>0</th>\n      <td>379875.0</td>\n      <td>N05BA0105</td>\n      <td>Stesolid</td>\n      <td>eþ-lausn</td>\n      <td>5</td>\n      <td>mg/2,5ml</td>\n      <td>2,5</td>\n      <td>ml</td>\n      <td>5.0</td>\n      <td>túpa</td>\n      <td>...</td>\n      <td>NaN</td>\n      <td>NaN</td>\n      <td>NaN</td>\n      <td>NaN</td>\n      <td>NaN</td>\n      <td>NaN</td>\n      <td>NaN</td>\n      <td>NaN</td>\n      <td>NaT</td>\n      <td>NaN</td>\n    </tr>\n    <tr>\n      <th>1</th>\n      <td>379883.0</td>\n      <td>N05BA0105</td>\n      <td>Stesolid</td>\n      <td>eþ-lausn</td>\n      <td>10</td>\n      <td>mg/2,5ml</td>\n      <td>2,5</td>\n      <td>ml</td>\n      <td>5.0</td>\n      <td>túpa</td>\n      <td>...</td>\n      <td>NaN</td>\n      <td>NaN</td>\n      <td>NaN</td>\n      <td>NaN</td>\n      <td>NaN</td>\n      <td>NaN</td>\n      <td>NaN</td>\n      <td>NaN</td>\n      <td>NaT</td>\n      <td>NaN</td>\n    </tr>\n    <tr>\n      <th>2</th>\n      <td>43729.0</td>\n      <td>N05CD0503</td>\n      <td>Halcion</td>\n      <td>töflur</td>\n      <td>0,125</td>\n      <td>mg</td>\n      <td>30</td>\n      <td>stk</td>\n      <td>1.0</td>\n      <td>þpakki</td>\n      <td>...</td>\n      <td>NaN</td>\n      <td>NaN</td>\n      <td>NaN</td>\n      <td>NaN</td>\n      <td>NaN</td>\n      <td>NaN</td>\n      <td>NaN</td>\n      <td>NaN</td>\n      <td>NaT</td>\n      <td>NaN</td>\n    </tr>\n    <tr>\n      <th>3</th>\n      <td>48199.0</td>\n      <td>A03CA0201</td>\n      <td>Librax</td>\n      <td>töflur</td>\n      <td>NaN</td>\n      <td>NaN</td>\n      <td>100</td>\n      <td>stk</td>\n      <td>1.0</td>\n      <td>glas</td>\n      <td>...</td>\n      <td>NaN</td>\n      <td>NaN</td>\n      <td>NaN</td>\n      <td>NaN</td>\n      <td>NaN</td>\n      <td>NaN</td>\n      <td>NaN</td>\n      <td>NaN</td>\n      <td>NaT</td>\n      <td>NaN</td>\n    </tr>\n    <tr>\n      <th>4</th>\n      <td>52286.0</td>\n      <td>N05BA1205</td>\n      <td>Alprazolam Mylan</td>\n      <td>töflur</td>\n      <td>0,25</td>\n      <td>mg</td>\n      <td>20</td>\n      <td>stk</td>\n      <td>1.0</td>\n      <td>þpakki</td>\n      <td>...</td>\n      <td>NaN</td>\n      <td>NaN</td>\n      <td>NaN</td>\n      <td>NaN</td>\n      <td>NaN</td>\n      <td>NaN</td>\n      <td>NaN</td>\n      <td>NaN</td>\n      <td>NaT</td>\n      <td>NaN</td>\n    </tr>\n    <tr>\n      <th>5</th>\n      <td>52297.0</td>\n      <td>N05BA1205</td>\n      <td>Alprazolam Mylan</td>\n      <td>töflur</td>\n      <td>0,25</td>\n      <td>mg</td>\n      <td>50</td>\n      <td>stk</td>\n      <td>1.0</td>\n      <td>þpakki</td>\n      <td>...</td>\n      <td>NaN</td>\n      <td>NaN</td>\n      <td>NaN</td>\n      <td>NaN</td>\n      <td>NaN</td>\n      <td>NaN</td>\n      <td>NaN</td>\n      <td>NaN</td>\n      <td>NaT</td>\n      <td>NaN</td>\n    </tr>\n    <tr>\n      <th>6</th>\n      <td>52309.0</td>\n      <td>N05BA1205</td>\n      <td>Alprazolam Mylan</td>\n      <td>töflur</td>\n      <td>0,5</td>\n      <td>mg</td>\n      <td>20</td>\n      <td>stk</td>\n      <td>1.0</td>\n      <td>þpakki</td>\n      <td>...</td>\n      <td>NaN</td>\n      <td>NaN</td>\n      <td>NaN</td>\n      <td>NaN</td>\n      <td>NaN</td>\n      <td>NaN</td>\n      <td>NaN</td>\n      <td>NaN</td>\n      <td>NaT</td>\n      <td>NaN</td>\n    </tr>\n    <tr>\n      <th>7</th>\n      <td>52320.0</td>\n      <td>N05BA1205</td>\n      <td>Alprazolam Mylan</td>\n      <td>töflur</td>\n      <td>0,5</td>\n      <td>mg</td>\n      <td>50</td>\n      <td>stk</td>\n      <td>1.0</td>\n      <td>þpakki</td>\n      <td>...</td>\n      <td>NaN</td>\n      <td>NaN</td>\n      <td>NaN</td>\n      <td>NaN</td>\n      <td>NaN</td>\n      <td>NaN</td>\n      <td>NaN</td>\n      <td>NaN</td>\n      <td>NaT</td>\n      <td>NaN</td>\n    </tr>\n    <tr>\n      <th>8</th>\n      <td>52331.0</td>\n      <td>N05BA1205</td>\n      <td>Alprazolam Mylan</td>\n      <td>töflur</td>\n      <td>0,25</td>\n      <td>mg</td>\n      <td>100</td>\n      <td>stk</td>\n      <td>1.0</td>\n      <td>glas</td>\n      <td>...</td>\n      <td>NaN</td>\n      <td>NaN</td>\n      <td>NaN</td>\n      <td>NaN</td>\n      <td>NaN</td>\n      <td>NaN</td>\n      <td>NaN</td>\n      <td>NaN</td>\n      <td>NaT</td>\n      <td>NaN</td>\n    </tr>\n    <tr>\n      <th>9</th>\n      <td>70203.0</td>\n      <td>N05CF0107</td>\n      <td>Imomed</td>\n      <td>filmhtfl</td>\n      <td>7,5</td>\n      <td>mg</td>\n      <td>30</td>\n      <td>stk</td>\n      <td>1.0</td>\n      <td>þpakki</td>\n      <td>...</td>\n      <td>NaN</td>\n      <td>NaN</td>\n      <td>NaN</td>\n      <td>NaN</td>\n      <td>NaN</td>\n      <td>NaN</td>\n      <td>NaN</td>\n      <td>NaN</td>\n      <td>NaT</td>\n      <td>NaN</td>\n    </tr>\n  </tbody>\n</table>\n<p>10 rows × 100 columns</p>\n</div>"
                    },
                    "metadata": {},
                    "execution_count": 84,
                    "output_type": "execute_result"
                }
            ],
            "execution_count": 84
        },
        {
            "cell_type": "markdown",
            "source": [
                "Time to clean the data as best we can. Lets merge all the data."
            ],
            "metadata": {
                "azdata_cell_guid": "59b74a22-9a12-4a69-a8e0-147f7ba6d6cf"
            }
        },
        {
            "cell_type": "code",
            "source": [
                "data['nvnr'] = data['Norrænt vörunúmer'].combine_first(data['Nvnr'])\r\n",
                "data['form'] = data['Form lyfs'].combine_first(data['Form'])\r\n",
                "data['package_quantity'] = data['Fj. Pakkninga'].combine_first(data['Fjöldi pakkninga'])\r\n",
                "data = data.drop(columns=['Norrænt vörunúmer','Nvnr','Form lyfs','Form','Fj. Pakkninga','Fjöldi pakkninga'])\r\n",
                "# data['nvnr'] = data['Norrænt vörunúmer'].combine_first(data['Nvnr'])\r\n",
                "# data['nvnr'] = data['Norrænt vörunúmer'].combine_first(data['Nvnr'])\r\n",
                "# data['nvnr'] = data['Norrænt vörunúmer'].combine_first(data['Nvnr'])\r\n",
                "# data['nvnr'] = data['Norrænt vörunúmer'].combine_first(data['Nvnr'])\r\n",
                "# data['nvnr'] = data['Norrænt vörunúmer'].combine_first(data['Nvnr'])"
            ],
            "metadata": {
                "azdata_cell_guid": "cda2bc39-b8c0-46ee-aa79-beed469a1a4d",
                "tags": []
            },
            "outputs": [],
            "execution_count": 88
        },
        {
            "cell_type": "code",
            "source": [
                "data.head(10)"
            ],
            "metadata": {
                "azdata_cell_guid": "9f7518da-b1a4-4d75-b3e8-bec939f903ed"
            },
            "outputs": [
                {
                    "data": {
                        "text/plain": "  Lyfjaheitisnúmer        Heiti lyfs Styrkur Styrkeining Magn Magneining  \\\n0        N05BA0105          Stesolid       5    mg/2,5ml  2,5         ml   \n1        N05BA0105          Stesolid      10    mg/2,5ml  2,5         ml   \n2        N05CD0503           Halcion   0,125          mg   30        stk   \n3        A03CA0201            Librax     NaN         NaN  100        stk   \n4        N05BA1205  Alprazolam Mylan    0,25          mg   20        stk   \n5        N05BA1205  Alprazolam Mylan    0,25          mg   50        stk   \n6        N05BA1205  Alprazolam Mylan     0,5          mg   20        stk   \n7        N05BA1205  Alprazolam Mylan     0,5          mg   50        stk   \n8        N05BA1205  Alprazolam Mylan    0,25          mg  100        stk   \n9        N05CF0107            Imomed     7,5          mg   30        stk   \n\n  Pakkning Athugasemdir ATC-flokkur Skráningardagsetning  ... Meðferð Hmagn  \\\n0     túpa          NaN     N05BA01            1.10.1995  ...     NaN   NaN   \n1     túpa          NaN     N05BA01            1.10.1995  ...     NaN   NaN   \n2   þpakki          NaN     N05CD05            1.12.1983  ...     NaN   NaN   \n3     glas          NaN     A03CA02            1.12.1972  ...     NaN   NaN   \n4   þpakki          NaN     N05BA12            1.10.2009  ...     NaN   NaN   \n5   þpakki          NaN     N05BA12            1.10.2009  ...     NaN   NaN   \n6   þpakki          NaN     N05BA12             1.7.2009  ...     NaN   NaN   \n7   þpakki          NaN     N05BA12            1.10.2009  ...     NaN   NaN   \n8     glas          NaN     N05BA12             1.8.2009  ...     NaN   NaN   \n9   þpakki          NaN     N05CF01             1.5.2020  ...     NaN   NaN   \n\n   Á undanþágulista (1, 0)  DDD  Unnamed: 1 Afskáningardags  Unnamed: 36  \\\n0                      NaN  NaN         NaN             NaT          NaN   \n1                      NaN  NaN         NaN             NaT          NaN   \n2                      NaN  NaN         NaN             NaT          NaN   \n3                      NaN  NaN         NaN             NaT          NaN   \n4                      NaN  NaN         NaN             NaT          NaN   \n5                      NaN  NaN         NaN             NaT          NaN   \n6                      NaN  NaN         NaN             NaT          NaN   \n7                      NaN  NaN         NaN             NaT          NaN   \n8                      NaN  NaN         NaN             NaT          NaN   \n9                      NaN  NaN         NaN             NaT          NaN   \n\n       nvnr      form  package_quantity  \n0  379875.0  eþ-lausn               5.0  \n1  379883.0  eþ-lausn               5.0  \n2   43729.0    töflur               1.0  \n3   48199.0    töflur               1.0  \n4   52286.0    töflur               1.0  \n5   52297.0    töflur               1.0  \n6   52309.0    töflur               1.0  \n7   52320.0    töflur               1.0  \n8   52331.0    töflur               1.0  \n9   70203.0  filmhtfl               1.0  \n\n[10 rows x 97 columns]",
                        "text/html": "<div>\n<style scoped>\n    .dataframe tbody tr th:only-of-type {\n        vertical-align: middle;\n    }\n\n    .dataframe tbody tr th {\n        vertical-align: top;\n    }\n\n    .dataframe thead th {\n        text-align: right;\n    }\n</style>\n<table border=\"1\" class=\"dataframe\">\n  <thead>\n    <tr style=\"text-align: right;\">\n      <th></th>\n      <th>Lyfjaheitisnúmer</th>\n      <th>Heiti lyfs</th>\n      <th>Styrkur</th>\n      <th>Styrkeining</th>\n      <th>Magn</th>\n      <th>Magneining</th>\n      <th>Pakkning</th>\n      <th>Athugasemdir</th>\n      <th>ATC-flokkur</th>\n      <th>Skráningardagsetning</th>\n      <th>...</th>\n      <th>Meðferð</th>\n      <th>Hmagn</th>\n      <th>Á undanþágulista (1, 0)</th>\n      <th>DDD</th>\n      <th>Unnamed: 1</th>\n      <th>Afskáningardags</th>\n      <th>Unnamed: 36</th>\n      <th>nvnr</th>\n      <th>form</th>\n      <th>package_quantity</th>\n    </tr>\n  </thead>\n  <tbody>\n    <tr>\n      <th>0</th>\n      <td>N05BA0105</td>\n      <td>Stesolid</td>\n      <td>5</td>\n      <td>mg/2,5ml</td>\n      <td>2,5</td>\n      <td>ml</td>\n      <td>túpa</td>\n      <td>NaN</td>\n      <td>N05BA01</td>\n      <td>1.10.1995</td>\n      <td>...</td>\n      <td>NaN</td>\n      <td>NaN</td>\n      <td>NaN</td>\n      <td>NaN</td>\n      <td>NaN</td>\n      <td>NaT</td>\n      <td>NaN</td>\n      <td>379875.0</td>\n      <td>eþ-lausn</td>\n      <td>5.0</td>\n    </tr>\n    <tr>\n      <th>1</th>\n      <td>N05BA0105</td>\n      <td>Stesolid</td>\n      <td>10</td>\n      <td>mg/2,5ml</td>\n      <td>2,5</td>\n      <td>ml</td>\n      <td>túpa</td>\n      <td>NaN</td>\n      <td>N05BA01</td>\n      <td>1.10.1995</td>\n      <td>...</td>\n      <td>NaN</td>\n      <td>NaN</td>\n      <td>NaN</td>\n      <td>NaN</td>\n      <td>NaN</td>\n      <td>NaT</td>\n      <td>NaN</td>\n      <td>379883.0</td>\n      <td>eþ-lausn</td>\n      <td>5.0</td>\n    </tr>\n    <tr>\n      <th>2</th>\n      <td>N05CD0503</td>\n      <td>Halcion</td>\n      <td>0,125</td>\n      <td>mg</td>\n      <td>30</td>\n      <td>stk</td>\n      <td>þpakki</td>\n      <td>NaN</td>\n      <td>N05CD05</td>\n      <td>1.12.1983</td>\n      <td>...</td>\n      <td>NaN</td>\n      <td>NaN</td>\n      <td>NaN</td>\n      <td>NaN</td>\n      <td>NaN</td>\n      <td>NaT</td>\n      <td>NaN</td>\n      <td>43729.0</td>\n      <td>töflur</td>\n      <td>1.0</td>\n    </tr>\n    <tr>\n      <th>3</th>\n      <td>A03CA0201</td>\n      <td>Librax</td>\n      <td>NaN</td>\n      <td>NaN</td>\n      <td>100</td>\n      <td>stk</td>\n      <td>glas</td>\n      <td>NaN</td>\n      <td>A03CA02</td>\n      <td>1.12.1972</td>\n      <td>...</td>\n      <td>NaN</td>\n      <td>NaN</td>\n      <td>NaN</td>\n      <td>NaN</td>\n      <td>NaN</td>\n      <td>NaT</td>\n      <td>NaN</td>\n      <td>48199.0</td>\n      <td>töflur</td>\n      <td>1.0</td>\n    </tr>\n    <tr>\n      <th>4</th>\n      <td>N05BA1205</td>\n      <td>Alprazolam Mylan</td>\n      <td>0,25</td>\n      <td>mg</td>\n      <td>20</td>\n      <td>stk</td>\n      <td>þpakki</td>\n      <td>NaN</td>\n      <td>N05BA12</td>\n      <td>1.10.2009</td>\n      <td>...</td>\n      <td>NaN</td>\n      <td>NaN</td>\n      <td>NaN</td>\n      <td>NaN</td>\n      <td>NaN</td>\n      <td>NaT</td>\n      <td>NaN</td>\n      <td>52286.0</td>\n      <td>töflur</td>\n      <td>1.0</td>\n    </tr>\n    <tr>\n      <th>5</th>\n      <td>N05BA1205</td>\n      <td>Alprazolam Mylan</td>\n      <td>0,25</td>\n      <td>mg</td>\n      <td>50</td>\n      <td>stk</td>\n      <td>þpakki</td>\n      <td>NaN</td>\n      <td>N05BA12</td>\n      <td>1.10.2009</td>\n      <td>...</td>\n      <td>NaN</td>\n      <td>NaN</td>\n      <td>NaN</td>\n      <td>NaN</td>\n      <td>NaN</td>\n      <td>NaT</td>\n      <td>NaN</td>\n      <td>52297.0</td>\n      <td>töflur</td>\n      <td>1.0</td>\n    </tr>\n    <tr>\n      <th>6</th>\n      <td>N05BA1205</td>\n      <td>Alprazolam Mylan</td>\n      <td>0,5</td>\n      <td>mg</td>\n      <td>20</td>\n      <td>stk</td>\n      <td>þpakki</td>\n      <td>NaN</td>\n      <td>N05BA12</td>\n      <td>1.7.2009</td>\n      <td>...</td>\n      <td>NaN</td>\n      <td>NaN</td>\n      <td>NaN</td>\n      <td>NaN</td>\n      <td>NaN</td>\n      <td>NaT</td>\n      <td>NaN</td>\n      <td>52309.0</td>\n      <td>töflur</td>\n      <td>1.0</td>\n    </tr>\n    <tr>\n      <th>7</th>\n      <td>N05BA1205</td>\n      <td>Alprazolam Mylan</td>\n      <td>0,5</td>\n      <td>mg</td>\n      <td>50</td>\n      <td>stk</td>\n      <td>þpakki</td>\n      <td>NaN</td>\n      <td>N05BA12</td>\n      <td>1.10.2009</td>\n      <td>...</td>\n      <td>NaN</td>\n      <td>NaN</td>\n      <td>NaN</td>\n      <td>NaN</td>\n      <td>NaN</td>\n      <td>NaT</td>\n      <td>NaN</td>\n      <td>52320.0</td>\n      <td>töflur</td>\n      <td>1.0</td>\n    </tr>\n    <tr>\n      <th>8</th>\n      <td>N05BA1205</td>\n      <td>Alprazolam Mylan</td>\n      <td>0,25</td>\n      <td>mg</td>\n      <td>100</td>\n      <td>stk</td>\n      <td>glas</td>\n      <td>NaN</td>\n      <td>N05BA12</td>\n      <td>1.8.2009</td>\n      <td>...</td>\n      <td>NaN</td>\n      <td>NaN</td>\n      <td>NaN</td>\n      <td>NaN</td>\n      <td>NaN</td>\n      <td>NaT</td>\n      <td>NaN</td>\n      <td>52331.0</td>\n      <td>töflur</td>\n      <td>1.0</td>\n    </tr>\n    <tr>\n      <th>9</th>\n      <td>N05CF0107</td>\n      <td>Imomed</td>\n      <td>7,5</td>\n      <td>mg</td>\n      <td>30</td>\n      <td>stk</td>\n      <td>þpakki</td>\n      <td>NaN</td>\n      <td>N05CF01</td>\n      <td>1.5.2020</td>\n      <td>...</td>\n      <td>NaN</td>\n      <td>NaN</td>\n      <td>NaN</td>\n      <td>NaN</td>\n      <td>NaN</td>\n      <td>NaT</td>\n      <td>NaN</td>\n      <td>70203.0</td>\n      <td>filmhtfl</td>\n      <td>1.0</td>\n    </tr>\n  </tbody>\n</table>\n<p>10 rows × 97 columns</p>\n</div>"
                    },
                    "metadata": {},
                    "execution_count": 89,
                    "output_type": "execute_result"
                }
            ],
            "execution_count": 89
        },
        {
            "cell_type": "code",
            "source": [
                "data.to_csv(\"output.txt\")"
            ],
            "metadata": {
                "azdata_cell_guid": "257d9568-95c9-4a1d-bc9e-87b6f98dfce4"
            },
            "outputs": [],
            "execution_count": 90
        }
    ]
}