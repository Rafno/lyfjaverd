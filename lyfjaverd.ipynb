{
    "metadata": {
        "kernelspec": {
            "name": "python3",
            "display_name": "Python 3",
            "language": "python"
        },
        "language_info": {
            "name": "python",
            "version": "3.9.2",
            "mimetype": "text/x-python",
            "codemirror_mode": {
                "name": "ipython",
                "version": 3
            },
            "pygments_lexer": "ipython3",
            "nbconvert_exporter": "python",
            "file_extension": ".py"
        }
    },
    "nbformat_minor": 2,
    "nbformat": 4,
    "cells": [
        {
            "cell_type": "code",
            "source": [
                "import requests\r\n",
                "import re\r\n",
                "import pandas as pd\r\n",
                "import io\r\n",
                "import html5lib\r\n",
                "from bs4 import BeautifulSoup as bs\r\n",
                "from IPython.display import clear_output\r\n",
                "import platform"
            ],
            "metadata": {
                "azdata_cell_guid": "4b0819d9-6aa3-4782-a926-6bf8da0ab601",
                "tags": [
                    "hide_input"
                ]
            },
            "outputs": [],
            "execution_count": 204
        },
        {
            "cell_type": "markdown",
            "source": [
                "Any urls we may need"
            ],
            "metadata": {
                "azdata_cell_guid": "af5656d4-dd7d-4838-a6de-bbb55b6906f8"
            }
        },
        {
            "cell_type": "code",
            "source": [
                "_BASE_URL = 'https://verd.lyfjastofnun.is/'\r\n",
                "_URL = 'https://verd.lyfjastofnun.is/?pageid=10'"
            ],
            "metadata": {
                "azdata_cell_guid": "8795abca-b3a9-4586-81dd-143b6ffadfff",
                "tags": []
            },
            "outputs": [],
            "execution_count": 205
        },
        {
            "cell_type": "markdown",
            "source": [
                "Fetch the urls of all excel files, do not get xlsx files that were uploaded due to them being a security issue.\n",
                "\n",
                "https://stackoverflow.com/questions/65250207/pandas-cannot-open-an-excel-xlsx-file"
            ],
            "metadata": {
                "azdata_cell_guid": "5ad4ab76-b5ad-40a7-8250-63141850de53"
            }
        },
        {
            "cell_type": "code",
            "source": [
                "r = requests.get(_URL)\r\n",
                "soup = bs(r.text)\r\n",
                "#xlsx\r\n",
                "_links = soup.find_all('a', {'href': re.compile(r'verdskra.*\\.xls$')})"
            ],
            "metadata": {
                "azdata_cell_guid": "8af0a5bb-d276-497d-9eb9-e76f88568273"
            },
            "outputs": [],
            "execution_count": 206
        },
        {
            "cell_type": "markdown",
            "source": [
                "Iterate through all excel files and add to our dataframe for processing.\n",
                "\n",
                "Skip the first file as it simply explains the columns of the rest of the files."
            ],
            "metadata": {
                "azdata_cell_guid": "5fa3f3ef-41a2-4021-9824-f3e22dd19346"
            }
        },
        {
            "cell_type": "code",
            "source": [
                "appended_data = []\r\n",
                "for index, link in enumerate(_links[1:]):\r\n",
                "    price_link = link.get(\"href\")\r\n",
                "    file_name = re.search('gogn/(.*).xls',price_link).group(1)\r\n",
                "    response = requests.get(_BASE_URL + price_link).content#\r\n",
                "    inc_data = pd.read_excel(response).assign(file=file_name)\r\n",
                "    appended_data.append(inc_data)\r\n",
                "\r\n",
                "data = pd.concat(appended_data)\r\n",
                "data.head(10)"
            ],
            "metadata": {
                "azdata_cell_guid": "17728f2e-3323-4943-ac35-dc6a5605fbb8",
                "tags": []
            },
            "outputs": [
                {
                    "data": {
                        "text/plain": "   Norrænt vörunúmer Lyfjaheitisnúmer        Heiti lyfs Form lyfs Styrkur  \\\n0           379875.0        N05BA0105          Stesolid  eþ-lausn       5   \n1           379883.0        N05BA0105          Stesolid  eþ-lausn      10   \n2            43729.0        N05CD0503           Halcion    töflur   0,125   \n3            48199.0        A03CA0201            Librax    töflur     NaN   \n4            52286.0        N05BA1205  Alprazolam Mylan    töflur    0,25   \n5            52297.0        N05BA1205  Alprazolam Mylan    töflur    0,25   \n6            52309.0        N05BA1205  Alprazolam Mylan    töflur     0,5   \n7            52320.0        N05BA1205  Alprazolam Mylan    töflur     0,5   \n8            52331.0        N05BA1205  Alprazolam Mylan    töflur    0,25   \n9            70203.0        N05CF0107            Imomed  filmhtfl     7,5   \n\n  Styrkeining Magn Magneining  Fj. Pakkninga Pakkning  ...  \\\n0    mg/2,5ml  2,5         ml            5.0     túpa  ...   \n1    mg/2,5ml  2,5         ml            5.0     túpa  ...   \n2          mg   30        stk            1.0   þpakki  ...   \n3         NaN  100        stk            1.0     glas  ...   \n4          mg   20        stk            1.0   þpakki  ...   \n5          mg   50        stk            1.0   þpakki  ...   \n6          mg   20        stk            1.0   þpakki  ...   \n7          mg   50        stk            1.0   þpakki  ...   \n8          mg  100        stk            1.0     glas  ...   \n9          mg   30        stk            1.0   þpakki  ...   \n\n  Skammtur að hámarki fyrir fjölda daga  (100,  30) Heildsöluverð Smásöluverð  \\\n0                                               NaN           NaN         NaN   \n1                                               NaN           NaN         NaN   \n2                                               NaN           NaN         NaN   \n3                                               NaN           NaN         NaN   \n4                                               NaN           NaN         NaN   \n5                                               NaN           NaN         NaN   \n6                                               NaN           NaN         NaN   \n7                                               NaN           NaN         NaN   \n8                                               NaN           NaN         NaN   \n9                                               NaN           NaN         NaN   \n\n  Meðferð Hmagn  Á undanþágulista (1, 0)  DDD  Unnamed: 1 Afskáningardags  \\\n0     NaN   NaN                      NaN  NaN         NaN             NaT   \n1     NaN   NaN                      NaN  NaN         NaN             NaT   \n2     NaN   NaN                      NaN  NaN         NaN             NaT   \n3     NaN   NaN                      NaN  NaN         NaN             NaT   \n4     NaN   NaN                      NaN  NaN         NaN             NaT   \n5     NaN   NaN                      NaN  NaN         NaN             NaT   \n6     NaN   NaN                      NaN  NaN         NaN             NaT   \n7     NaN   NaN                      NaN  NaN         NaN             NaT   \n8     NaN   NaN                      NaN  NaN         NaN             NaT   \n9     NaN   NaN                      NaN  NaN         NaN             NaT   \n\n   Unnamed: 36  \n0          NaN  \n1          NaN  \n2          NaN  \n3          NaN  \n4          NaN  \n5          NaN  \n6          NaN  \n7          NaN  \n8          NaN  \n9          NaN  \n\n[10 rows x 100 columns]",
                        "text/html": "<div>\n<style scoped>\n    .dataframe tbody tr th:only-of-type {\n        vertical-align: middle;\n    }\n\n    .dataframe tbody tr th {\n        vertical-align: top;\n    }\n\n    .dataframe thead th {\n        text-align: right;\n    }\n</style>\n<table border=\"1\" class=\"dataframe\">\n  <thead>\n    <tr style=\"text-align: right;\">\n      <th></th>\n      <th>Norrænt vörunúmer</th>\n      <th>Lyfjaheitisnúmer</th>\n      <th>Heiti lyfs</th>\n      <th>Form lyfs</th>\n      <th>Styrkur</th>\n      <th>Styrkeining</th>\n      <th>Magn</th>\n      <th>Magneining</th>\n      <th>Fj. Pakkninga</th>\n      <th>Pakkning</th>\n      <th>...</th>\n      <th>Skammtur að hámarki fyrir fjölda daga  (100,  30)</th>\n      <th>Heildsöluverð</th>\n      <th>Smásöluverð</th>\n      <th>Meðferð</th>\n      <th>Hmagn</th>\n      <th>Á undanþágulista (1, 0)</th>\n      <th>DDD</th>\n      <th>Unnamed: 1</th>\n      <th>Afskáningardags</th>\n      <th>Unnamed: 36</th>\n    </tr>\n  </thead>\n  <tbody>\n    <tr>\n      <th>0</th>\n      <td>379875.0</td>\n      <td>N05BA0105</td>\n      <td>Stesolid</td>\n      <td>eþ-lausn</td>\n      <td>5</td>\n      <td>mg/2,5ml</td>\n      <td>2,5</td>\n      <td>ml</td>\n      <td>5.0</td>\n      <td>túpa</td>\n      <td>...</td>\n      <td>NaN</td>\n      <td>NaN</td>\n      <td>NaN</td>\n      <td>NaN</td>\n      <td>NaN</td>\n      <td>NaN</td>\n      <td>NaN</td>\n      <td>NaN</td>\n      <td>NaT</td>\n      <td>NaN</td>\n    </tr>\n    <tr>\n      <th>1</th>\n      <td>379883.0</td>\n      <td>N05BA0105</td>\n      <td>Stesolid</td>\n      <td>eþ-lausn</td>\n      <td>10</td>\n      <td>mg/2,5ml</td>\n      <td>2,5</td>\n      <td>ml</td>\n      <td>5.0</td>\n      <td>túpa</td>\n      <td>...</td>\n      <td>NaN</td>\n      <td>NaN</td>\n      <td>NaN</td>\n      <td>NaN</td>\n      <td>NaN</td>\n      <td>NaN</td>\n      <td>NaN</td>\n      <td>NaN</td>\n      <td>NaT</td>\n      <td>NaN</td>\n    </tr>\n    <tr>\n      <th>2</th>\n      <td>43729.0</td>\n      <td>N05CD0503</td>\n      <td>Halcion</td>\n      <td>töflur</td>\n      <td>0,125</td>\n      <td>mg</td>\n      <td>30</td>\n      <td>stk</td>\n      <td>1.0</td>\n      <td>þpakki</td>\n      <td>...</td>\n      <td>NaN</td>\n      <td>NaN</td>\n      <td>NaN</td>\n      <td>NaN</td>\n      <td>NaN</td>\n      <td>NaN</td>\n      <td>NaN</td>\n      <td>NaN</td>\n      <td>NaT</td>\n      <td>NaN</td>\n    </tr>\n    <tr>\n      <th>3</th>\n      <td>48199.0</td>\n      <td>A03CA0201</td>\n      <td>Librax</td>\n      <td>töflur</td>\n      <td>NaN</td>\n      <td>NaN</td>\n      <td>100</td>\n      <td>stk</td>\n      <td>1.0</td>\n      <td>glas</td>\n      <td>...</td>\n      <td>NaN</td>\n      <td>NaN</td>\n      <td>NaN</td>\n      <td>NaN</td>\n      <td>NaN</td>\n      <td>NaN</td>\n      <td>NaN</td>\n      <td>NaN</td>\n      <td>NaT</td>\n      <td>NaN</td>\n    </tr>\n    <tr>\n      <th>4</th>\n      <td>52286.0</td>\n      <td>N05BA1205</td>\n      <td>Alprazolam Mylan</td>\n      <td>töflur</td>\n      <td>0,25</td>\n      <td>mg</td>\n      <td>20</td>\n      <td>stk</td>\n      <td>1.0</td>\n      <td>þpakki</td>\n      <td>...</td>\n      <td>NaN</td>\n      <td>NaN</td>\n      <td>NaN</td>\n      <td>NaN</td>\n      <td>NaN</td>\n      <td>NaN</td>\n      <td>NaN</td>\n      <td>NaN</td>\n      <td>NaT</td>\n      <td>NaN</td>\n    </tr>\n    <tr>\n      <th>5</th>\n      <td>52297.0</td>\n      <td>N05BA1205</td>\n      <td>Alprazolam Mylan</td>\n      <td>töflur</td>\n      <td>0,25</td>\n      <td>mg</td>\n      <td>50</td>\n      <td>stk</td>\n      <td>1.0</td>\n      <td>þpakki</td>\n      <td>...</td>\n      <td>NaN</td>\n      <td>NaN</td>\n      <td>NaN</td>\n      <td>NaN</td>\n      <td>NaN</td>\n      <td>NaN</td>\n      <td>NaN</td>\n      <td>NaN</td>\n      <td>NaT</td>\n      <td>NaN</td>\n    </tr>\n    <tr>\n      <th>6</th>\n      <td>52309.0</td>\n      <td>N05BA1205</td>\n      <td>Alprazolam Mylan</td>\n      <td>töflur</td>\n      <td>0,5</td>\n      <td>mg</td>\n      <td>20</td>\n      <td>stk</td>\n      <td>1.0</td>\n      <td>þpakki</td>\n      <td>...</td>\n      <td>NaN</td>\n      <td>NaN</td>\n      <td>NaN</td>\n      <td>NaN</td>\n      <td>NaN</td>\n      <td>NaN</td>\n      <td>NaN</td>\n      <td>NaN</td>\n      <td>NaT</td>\n      <td>NaN</td>\n    </tr>\n    <tr>\n      <th>7</th>\n      <td>52320.0</td>\n      <td>N05BA1205</td>\n      <td>Alprazolam Mylan</td>\n      <td>töflur</td>\n      <td>0,5</td>\n      <td>mg</td>\n      <td>50</td>\n      <td>stk</td>\n      <td>1.0</td>\n      <td>þpakki</td>\n      <td>...</td>\n      <td>NaN</td>\n      <td>NaN</td>\n      <td>NaN</td>\n      <td>NaN</td>\n      <td>NaN</td>\n      <td>NaN</td>\n      <td>NaN</td>\n      <td>NaN</td>\n      <td>NaT</td>\n      <td>NaN</td>\n    </tr>\n    <tr>\n      <th>8</th>\n      <td>52331.0</td>\n      <td>N05BA1205</td>\n      <td>Alprazolam Mylan</td>\n      <td>töflur</td>\n      <td>0,25</td>\n      <td>mg</td>\n      <td>100</td>\n      <td>stk</td>\n      <td>1.0</td>\n      <td>glas</td>\n      <td>...</td>\n      <td>NaN</td>\n      <td>NaN</td>\n      <td>NaN</td>\n      <td>NaN</td>\n      <td>NaN</td>\n      <td>NaN</td>\n      <td>NaN</td>\n      <td>NaN</td>\n      <td>NaT</td>\n      <td>NaN</td>\n    </tr>\n    <tr>\n      <th>9</th>\n      <td>70203.0</td>\n      <td>N05CF0107</td>\n      <td>Imomed</td>\n      <td>filmhtfl</td>\n      <td>7,5</td>\n      <td>mg</td>\n      <td>30</td>\n      <td>stk</td>\n      <td>1.0</td>\n      <td>þpakki</td>\n      <td>...</td>\n      <td>NaN</td>\n      <td>NaN</td>\n      <td>NaN</td>\n      <td>NaN</td>\n      <td>NaN</td>\n      <td>NaN</td>\n      <td>NaN</td>\n      <td>NaN</td>\n      <td>NaT</td>\n      <td>NaN</td>\n    </tr>\n  </tbody>\n</table>\n<p>10 rows × 100 columns</p>\n</div>"
                    },
                    "metadata": {},
                    "execution_count": 210,
                    "output_type": "execute_result"
                }
            ],
            "execution_count": 210
        },
        {
            "cell_type": "markdown",
            "source": [
                "Time to clean the data as best we can. Lets merge all the data."
            ],
            "metadata": {
                "azdata_cell_guid": "59b74a22-9a12-4a69-a8e0-147f7ba6d6cf"
            }
        },
        {
            "cell_type": "code",
            "source": [
                "data_clean = data\r\n",
                "#data = data_clean"
            ],
            "metadata": {
                "azdata_cell_guid": "1027e0af-9433-4f12-bf39-61131f975844",
                "tags": []
            },
            "outputs": [],
            "execution_count": 216
        },
        {
            "cell_type": "code",
            "source": [
                "data['nvnr'] = data['Norrænt vörunúmer'].combine_first(data['Nvnr'])\r\n",
                "data['form'] = data['Form lyfs'].combine_first(data['Form'])\r\n",
                "data['name'] = data['Heiti lyfs'].combine_first(data['Heiti'])\r\n",
                "data['package_quantity'] = data['Fj. Pakkninga'].combine_first(data['Fjöldi pakkninga'])\r\n",
                "data['dentist_prescription'] = data['Tannlæknir ávísar'].combine_first(data['Tannlæknir ávísar (1, 0)'])\r\n",
                "data['vet_prescription'] = data['Dýralæknir ávísar'].combine_first(data['Dýralæknir ávísar  (1, 0)'])\r\n",
                "data['specialist_prescription'] = data['Sérfræðingur ávísar'].combine_first(data['Sérfræðingur ávísar  (1, 0)'])\r\n",
                "data['market_authorization_holder_code'] = data['Markaðsleyfishafi kóði'].combine_first(data['Markaðsleyfishafi-Kódi'])\r\n",
                "data['hospital'] = data['Sjúkrahúslyf'].combine_first(data['Sjúkrahúslyf  (1, 0)'])\r\n",
                "data['exception_list'] = data['Á undanþágulista'].combine_first(data['Á undanþágulista (1, 0)'])\r\n",
                "data['package_quantity'] = data['package_quantity'].combine_first(data['Fj í pakkningu'])\r\n",
                "data['copay_availability'] = data['Greiðsluþátttökuverð'].combine_first(data['Greiðsluþátttökusmásöluverð'])\r\n",
                "data['permitted_dosages'] = data['Skammtur, hámark daga'].combine_first(data['Skammtur að hámarki fyrir fjölda daga  (100,  30)'])\r\n",
                "data['daily_dosage'] = data['DDD á pakkningu'].combine_first(data['DDD'])\r\n",
                "data['strength'] = data['Styrkur'].combine_first(data['Tölugildi styrks'])\r\n",
                "data['strength_unit'] = data['Styrkeining'].combine_first(data['Einingar styrks'])\r\n",
                "data['strength_unit'] = data['strength_unit'].combine_first(data['Einstyrks'])\r\n",
                "data['strength_unit'] = data['strength_unit'].combine_first(data['Eining styrks'])\r\n",
                "data['amount'] = data['Magn'].combine_first(data['Tölugildi magns'])\r\n",
                "data['amount_unit'] = data['Magneining'].combine_first(data['Einingar magns'])\r\n",
                "data['amount_unit'] = data['amount_unit'].combine_first(data['Einmagns'])\r\n",
                "data['total_amount'] = data['Heildarmagn'].combine_first(data['Hmagn'])\r\n",
                "data['therapy_instructions'] = data['Meðferð'].combine_first(data['Leiðbeiningar um meðferð'])\r\n",
                "data['shelf_life'] = data['Geymsluþol'].combine_first(data['Geymsluþol  (F,H,K,S,A)'])\r\n",
                "data['comparable_currency'] = data['Viðmiðunargjaldmiðill'].combine_first(data['Viðmiðunargjald'])\r\n",
                "data['included_in_insurance'] = data['Ákvörðun LGN um greiðsluþátttöku'].combine_first(data['Ákvörðun LGN'])\r\n",
                "data['copay_group'] = data['Greiðsluhlutur SÍ'].combine_first(data['Greiðsluhlutur TR'])\r\n",
                "data['antipsychotic'] = data['Geðlyf á geðdeild'].combine_first(data['Geðlyf á geðdeild  (1, 0)'])\r\n",
                "data['regulated'] = data['Eftirritunarskylt'].combine_first(data['Eftirritunarskylt  (1, 0)'])\n",
                "data['registrated_at_date'] = data['Skráningardagsetning'].combine_first(data['Skráningardags'])\n",
                "data['unregistrated_at_date'] = data['Afskráningardagsetning'].combine_first(data['Afskáningardags'])\n",
                "data['unregistrated_at_date'] = data['unregistrated_at_date'].combine_first(data['Afskráning'])\r\n",
                "\r\n",
                "## Drop our merged columns\r\n",
                "data = data.drop(columns=['Norrænt vörunúmer','Nvnr',\r\n",
                "'Form lyfs','Form',\r\n",
                "'Fj. Pakkninga','Fjöldi pakkninga','Fj í pakkningu',\r\n",
                "'Tannlæknir ávísar','Tannlæknir ávísar (1, 0)',\r\n",
                "'Heiti lyfs','Heiti',\r\n",
                "'Dýralæknir ávísar','Dýralæknir ávísar  (1, 0)',\r\n",
                "'Markaðsleyfishafi kóði','Markaðsleyfishafi-Kódi',\r\n",
                "'Sérfræðingur ávísar  (1, 0)','Sérfræðingur ávísar',\r\n",
                "'Sjúkrahúslyf','Sjúkrahúslyf  (1, 0)',\r\n",
                "'Á undanþágulista','Á undanþágulista (1, 0)',\r\n",
                "'Greiðsluþátttökuverð','Greiðsluþátttökusmásöluverð',\r\n",
                "'Skammtur, hámark daga','Skammtur að hámarki fyrir fjölda daga  (100,  30)',\r\n",
                "'DDD','DDD á pakkningu',\r\n",
                "'Styrkur','Styrkeining','Einstyrks','Einingar styrks','Eining styrks','Tölugildi styrks',\r\n",
                "'Magn','Magneining','Einmagns','Einingar magns','Tölugildi magns',\r\n",
                "'Heildarmagn','Hmagn',\r\n",
                "'Meðferð','Leiðbeiningar um meðferð',\r\n",
                "'Unnamed: 0','Unnamed: 1','Unnamed: 36',\r\n",
                "'Viðmiðunargjaldmiðill','Viðmiðunargjald',\r\n",
                "'Ákvörðun LGN um greiðsluþátttöku','Ákvörðun LGN',\r\n",
                "'Greiðsluhlutur SÍ','Greiðsluhlutur TR',\r\n",
                "'Geðlyf á geðdeild','Geðlyf á geðdeild  (1, 0)',\r\n",
                "'Eftirritunarskylt','Eftirritunarskylt  (1, 0)',\n",
                "'Skráningardagsetning','Skráningardags',\n",
                "'Afskráning','Afskráningardagsetning','Afskáningardags'])\r\n",
                ""
            ],
            "metadata": {
                "azdata_cell_guid": "cda2bc39-b8c0-46ee-aa79-beed469a1a4d",
                "tags": []
            },
            "outputs": [
{
    "traceback": [
        "\u001b[1;31m---------------------------------------------------------------------------\u001b[0m",
        "\u001b[1;31mKeyError\u001b[0m                                  Traceback (most recent call last)",
        "\u001b[1;32m~\\AppData\\Local\\Programs\\Python\\Python39\\lib\\site-packages\\pandas\\core\\indexes\\base.py\u001b[0m in \u001b[0;36mget_loc\u001b[1;34m(self, key, method, tolerance)\u001b[0m\n\u001b[0;32m   3079\u001b[0m             \u001b[1;32mtry\u001b[0m\u001b[1;33m:\u001b[0m\u001b[1;33m\u001b[0m\u001b[1;33m\u001b[0m\u001b[0m\n\u001b[1;32m-> 3080\u001b[1;33m                 \u001b[1;32mreturn\u001b[0m \u001b[0mself\u001b[0m\u001b[1;33m.\u001b[0m\u001b[0m_engine\u001b[0m\u001b[1;33m.\u001b[0m\u001b[0mget_loc\u001b[0m\u001b[1;33m(\u001b[0m\u001b[0mcasted_key\u001b[0m\u001b[1;33m)\u001b[0m\u001b[1;33m\u001b[0m\u001b[1;33m\u001b[0m\u001b[0m\n\u001b[0m\u001b[0;32m   3081\u001b[0m             \u001b[1;32mexcept\u001b[0m \u001b[0mKeyError\u001b[0m \u001b[1;32mas\u001b[0m \u001b[0merr\u001b[0m\u001b[1;33m:\u001b[0m\u001b[1;33m\u001b[0m\u001b[1;33m\u001b[0m\u001b[0m\n",
        "\u001b[1;32mpandas\\_libs\\index.pyx\u001b[0m in \u001b[0;36mpandas._libs.index.IndexEngine.get_loc\u001b[1;34m()\u001b[0m\n",
        "\u001b[1;32mpandas\\_libs\\index.pyx\u001b[0m in \u001b[0;36mpandas._libs.index.IndexEngine.get_loc\u001b[1;34m()\u001b[0m\n",
        "\u001b[1;32mpandas\\_libs\\hashtable_class_helper.pxi\u001b[0m in \u001b[0;36mpandas._libs.hashtable.PyObjectHashTable.get_item\u001b[1;34m()\u001b[0m\n",
        "\u001b[1;32mpandas\\_libs\\hashtable_class_helper.pxi\u001b[0m in \u001b[0;36mpandas._libs.hashtable.PyObjectHashTable.get_item\u001b[1;34m()\u001b[0m\n",
        "\u001b[1;31mKeyError\u001b[0m: 'Norrænt vörunúmer'",
        "\nThe above exception was the direct cause of the following exception:\n",
        "\u001b[1;31mKeyError\u001b[0m                                  Traceback (most recent call last)",
        "\u001b[1;32m<ipython-input-217-93385424f71c>\u001b[0m in \u001b[0;36m<module>\u001b[1;34m\u001b[0m\n\u001b[1;32m----> 1\u001b[1;33m \u001b[0mdata\u001b[0m\u001b[1;33m[\u001b[0m\u001b[1;34m'nvnr'\u001b[0m\u001b[1;33m]\u001b[0m \u001b[1;33m=\u001b[0m \u001b[0mdata\u001b[0m\u001b[1;33m[\u001b[0m\u001b[1;34m'Norrænt vörunúmer'\u001b[0m\u001b[1;33m]\u001b[0m\u001b[1;33m.\u001b[0m\u001b[0mcombine_first\u001b[0m\u001b[1;33m(\u001b[0m\u001b[0mdata\u001b[0m\u001b[1;33m[\u001b[0m\u001b[1;34m'Nvnr'\u001b[0m\u001b[1;33m]\u001b[0m\u001b[1;33m)\u001b[0m\u001b[1;33m\u001b[0m\u001b[1;33m\u001b[0m\u001b[0m\n\u001b[0m\u001b[0;32m      2\u001b[0m \u001b[0mdata\u001b[0m\u001b[1;33m[\u001b[0m\u001b[1;34m'form'\u001b[0m\u001b[1;33m]\u001b[0m \u001b[1;33m=\u001b[0m \u001b[0mdata\u001b[0m\u001b[1;33m[\u001b[0m\u001b[1;34m'Form lyfs'\u001b[0m\u001b[1;33m]\u001b[0m\u001b[1;33m.\u001b[0m\u001b[0mcombine_first\u001b[0m\u001b[1;33m(\u001b[0m\u001b[0mdata\u001b[0m\u001b[1;33m[\u001b[0m\u001b[1;34m'Form'\u001b[0m\u001b[1;33m]\u001b[0m\u001b[1;33m)\u001b[0m\u001b[1;33m\u001b[0m\u001b[1;33m\u001b[0m\u001b[0m\n\u001b[0;32m      3\u001b[0m \u001b[0mdata\u001b[0m\u001b[1;33m[\u001b[0m\u001b[1;34m'name'\u001b[0m\u001b[1;33m]\u001b[0m \u001b[1;33m=\u001b[0m \u001b[0mdata\u001b[0m\u001b[1;33m[\u001b[0m\u001b[1;34m'Heiti lyfs'\u001b[0m\u001b[1;33m]\u001b[0m\u001b[1;33m.\u001b[0m\u001b[0mcombine_first\u001b[0m\u001b[1;33m(\u001b[0m\u001b[0mdata\u001b[0m\u001b[1;33m[\u001b[0m\u001b[1;34m'Heiti'\u001b[0m\u001b[1;33m]\u001b[0m\u001b[1;33m)\u001b[0m\u001b[1;33m\u001b[0m\u001b[1;33m\u001b[0m\u001b[0m\n\u001b[0;32m      4\u001b[0m \u001b[0mdata\u001b[0m\u001b[1;33m[\u001b[0m\u001b[1;34m'package_quantity'\u001b[0m\u001b[1;33m]\u001b[0m \u001b[1;33m=\u001b[0m \u001b[0mdata\u001b[0m\u001b[1;33m[\u001b[0m\u001b[1;34m'Fj. Pakkninga'\u001b[0m\u001b[1;33m]\u001b[0m\u001b[1;33m.\u001b[0m\u001b[0mcombine_first\u001b[0m\u001b[1;33m(\u001b[0m\u001b[0mdata\u001b[0m\u001b[1;33m[\u001b[0m\u001b[1;34m'Fjöldi pakkninga'\u001b[0m\u001b[1;33m]\u001b[0m\u001b[1;33m)\u001b[0m\u001b[1;33m\u001b[0m\u001b[1;33m\u001b[0m\u001b[0m\n\u001b[0;32m      5\u001b[0m \u001b[0mdata\u001b[0m\u001b[1;33m[\u001b[0m\u001b[1;34m'dentist_prescription'\u001b[0m\u001b[1;33m]\u001b[0m \u001b[1;33m=\u001b[0m \u001b[0mdata\u001b[0m\u001b[1;33m[\u001b[0m\u001b[1;34m'Tannlæknir ávísar'\u001b[0m\u001b[1;33m]\u001b[0m\u001b[1;33m.\u001b[0m\u001b[0mcombine_first\u001b[0m\u001b[1;33m(\u001b[0m\u001b[0mdata\u001b[0m\u001b[1;33m[\u001b[0m\u001b[1;34m'Tannlæknir ávísar (1, 0)'\u001b[0m\u001b[1;33m]\u001b[0m\u001b[1;33m)\u001b[0m\u001b[1;33m\u001b[0m\u001b[1;33m\u001b[0m\u001b[0m\n",
        "\u001b[1;32m~\\AppData\\Local\\Programs\\Python\\Python39\\lib\\site-packages\\pandas\\core\\frame.py\u001b[0m in \u001b[0;36m__getitem__\u001b[1;34m(self, key)\u001b[0m\n\u001b[0;32m   3022\u001b[0m             \u001b[1;32mif\u001b[0m \u001b[0mself\u001b[0m\u001b[1;33m.\u001b[0m\u001b[0mcolumns\u001b[0m\u001b[1;33m.\u001b[0m\u001b[0mnlevels\u001b[0m \u001b[1;33m>\u001b[0m \u001b[1;36m1\u001b[0m\u001b[1;33m:\u001b[0m\u001b[1;33m\u001b[0m\u001b[1;33m\u001b[0m\u001b[0m\n\u001b[0;32m   3023\u001b[0m                 \u001b[1;32mreturn\u001b[0m \u001b[0mself\u001b[0m\u001b[1;33m.\u001b[0m\u001b[0m_getitem_multilevel\u001b[0m\u001b[1;33m(\u001b[0m\u001b[0mkey\u001b[0m\u001b[1;33m)\u001b[0m\u001b[1;33m\u001b[0m\u001b[1;33m\u001b[0m\u001b[0m\n\u001b[1;32m-> 3024\u001b[1;33m             \u001b[0mindexer\u001b[0m \u001b[1;33m=\u001b[0m \u001b[0mself\u001b[0m\u001b[1;33m.\u001b[0m\u001b[0mcolumns\u001b[0m\u001b[1;33m.\u001b[0m\u001b[0mget_loc\u001b[0m\u001b[1;33m(\u001b[0m\u001b[0mkey\u001b[0m\u001b[1;33m)\u001b[0m\u001b[1;33m\u001b[0m\u001b[1;33m\u001b[0m\u001b[0m\n\u001b[0m\u001b[0;32m   3025\u001b[0m             \u001b[1;32mif\u001b[0m \u001b[0mis_integer\u001b[0m\u001b[1;33m(\u001b[0m\u001b[0mindexer\u001b[0m\u001b[1;33m)\u001b[0m\u001b[1;33m:\u001b[0m\u001b[1;33m\u001b[0m\u001b[1;33m\u001b[0m\u001b[0m\n\u001b[0;32m   3026\u001b[0m                 \u001b[0mindexer\u001b[0m \u001b[1;33m=\u001b[0m \u001b[1;33m[\u001b[0m\u001b[0mindexer\u001b[0m\u001b[1;33m]\u001b[0m\u001b[1;33m\u001b[0m\u001b[1;33m\u001b[0m\u001b[0m\n",
        "\u001b[1;32m~\\AppData\\Local\\Programs\\Python\\Python39\\lib\\site-packages\\pandas\\core\\indexes\\base.py\u001b[0m in \u001b[0;36mget_loc\u001b[1;34m(self, key, method, tolerance)\u001b[0m\n\u001b[0;32m   3080\u001b[0m                 \u001b[1;32mreturn\u001b[0m \u001b[0mself\u001b[0m\u001b[1;33m.\u001b[0m\u001b[0m_engine\u001b[0m\u001b[1;33m.\u001b[0m\u001b[0mget_loc\u001b[0m\u001b[1;33m(\u001b[0m\u001b[0mcasted_key\u001b[0m\u001b[1;33m)\u001b[0m\u001b[1;33m\u001b[0m\u001b[1;33m\u001b[0m\u001b[0m\n\u001b[0;32m   3081\u001b[0m             \u001b[1;32mexcept\u001b[0m \u001b[0mKeyError\u001b[0m \u001b[1;32mas\u001b[0m \u001b[0merr\u001b[0m\u001b[1;33m:\u001b[0m\u001b[1;33m\u001b[0m\u001b[1;33m\u001b[0m\u001b[0m\n\u001b[1;32m-> 3082\u001b[1;33m                 \u001b[1;32mraise\u001b[0m \u001b[0mKeyError\u001b[0m\u001b[1;33m(\u001b[0m\u001b[0mkey\u001b[0m\u001b[1;33m)\u001b[0m \u001b[1;32mfrom\u001b[0m \u001b[0merr\u001b[0m\u001b[1;33m\u001b[0m\u001b[1;33m\u001b[0m\u001b[0m\n\u001b[0m\u001b[0;32m   3083\u001b[0m \u001b[1;33m\u001b[0m\u001b[0m\n\u001b[0;32m   3084\u001b[0m         \u001b[1;32mif\u001b[0m \u001b[0mtolerance\u001b[0m \u001b[1;32mis\u001b[0m \u001b[1;32mnot\u001b[0m \u001b[1;32mNone\u001b[0m\u001b[1;33m:\u001b[0m\u001b[1;33m\u001b[0m\u001b[1;33m\u001b[0m\u001b[0m\n",
        "\u001b[1;31mKeyError\u001b[0m: 'Norrænt vörunúmer'"
    ],
    "ename": "KeyError",
    "evalue": "'Norrænt vörunúmer'",
    "output_type": "error"
}
],
            "execution_count": 212
        },
        {
            "cell_type": "code",
            "source": [
                "## Rename our leftover columns\r\n",
                "data = data.rename(columns={\r\n",
                "'Lyfjaheitisnúmer':'drug_number',\r\n",
                "'Pakkning':'packaging',\r\n",
                "'Athugasemdir':'comments',\r\n",
                "'ATC-flokkur':'ATC',\r\n",
                "'Afgreiðslumáti':'delivery_method_code',\r\n",
                "'Skömmtunarmöguleikar ':'prescription_available',\r\n",
                "'Öryggiskröfur LST':'security_standards_LST',\r\n",
                "'Greiðsluhlutur SÍ':'copay_amount',\r\n",
                "'Leyfisskyld lyf ':'prescription_required',\r\n",
                "'Hámarks heildsöluverð':'maximum_wholesale_price',\r\n",
                "'Hámarks smásöluverð':'maximum_retail_price',\r\n",
                "'Álagningarflokkur':'pay_group',\r\n",
                "'Viðmiðunarverðflokkur':'comparable_price_range',\r\n",
                "'Viðmiðunarverð':'comparable_price',\r\n",
                "'Staða lyfs ':'status',\r\n",
                "'Umboðsaðili':'commissioner',\r\n",
                "'Markaðsleyfishafi':'market_authorization_holder',\r\n",
                "'Heiti virka innihaldsefnis':'active_ingredient',\r\n",
                "'Lyfjaframleiðenda heildsöluverð':'manufacturer_wholesale_price',\r\n",
                "'Umboðsmanna heildsöluverð':'commissioner_wholesale_price',\r\n",
                "'Heildsölu heildsöluverð':'wholesaler_wholesale_price',\r\n",
                "'Innkaupsverð apóteka':'pharmacy_buy_price',\r\n",
                "'Fellt úr lyfjaverðskrá vegna birgðaskorts':'dropped_from_sale_due_to_shortage',\r\n",
                "'Heildsali':'wholesaler',\r\n",
                "'H merking':'healthcare_specific',\r\n",
                "'Ávana og fíknilyf':'addictive_medicine',\r\n",
                "'Ávana og fíknilyf magn':'addictive_medicine_amount',\r\n",
                "'Ávana og fíknilyf eining':'addictive_medicine_unit',\r\n",
                "'Hjúkr-/ljósm ávísar':'wet_nurse_prescription',\r\n",
                "'GTIN númer':'GTIN',\r\n",
                "'Geymsluskilyrði':'storage_requirement'\r\n",
                "})"
            ],
            "metadata": {
                "azdata_cell_guid": "ab6c70ca-c087-48c0-8bd1-d68ff9a83471"
            },
            "outputs": [],
            "execution_count": 213
        },
        {
            "cell_type": "code",
            "source": [
                "print('number of columns are now ', len(data.columns), 'They were ', len(data_clean.columns))\r\n",
                "data.columns"
            ],
            "metadata": {
                "azdata_cell_guid": "9f7518da-b1a4-4d75-b3e8-bec939f903ed"
            },
            "outputs": [
{
    "name": "stdout",
    "text": "number of columns are now  71 They were  71\n",
    "output_type": "stream"
}, {
    "data": {
        "text/plain": "Index(['drug_number', 'packaging', 'comments', 'ATC', 'registrated_at_date',\n       'unregistrated_at_date', 'delivery_method_code',\n       'prescription_available', 'security_standards_LST',\n       'prescription_required', 'maximum_wholesale_price',\n       'maximum_retail_price', 'pay_group', 'comparable_price_range',\n       'comparable_price', 'status', 'commissioner',\n       'market_authorization_holder', 'active_ingredient',\n       'manufacturer_wholesale_price', 'commissioner_wholesale_price',\n       'wholesaler_wholesale_price', 'pharmacy_buy_price',\n       'dropped_from_sale_due_to_shortage', 'wholesaler',\n       'healthcare_specific', 'addictive_medicine',\n       'addictive_medicine_amount', 'addictive_medicine_unit',\n       'wet_nurse_prescription', 'file', 'regulated', 'GTIN',\n       'storage_requirement', 'Geymsluþol', 'antipsychotic',\n       'Markaðsfyrirtækja/umboðsmanna heildsöluverð', 'Mismunur',\n       'Skráningardags', 'Afskráning', 'Afgreiðslumáti  (R,L,U)',\n       'Geymsluþol  (F,H,K,S,A)', 'Geymslutími (0-5, G>= 5ár)',\n       'Eftirritunarskylt  (1, 0)', 'Greiðsluhlutur Tr  (0,*,B,E)',\n       'Geðlyf á geðdeild  (1, 0)', 'Heildsöluverð', 'Smásöluverð',\n       'Afskáningardags', 'nvnr', 'form', 'name', 'package_quantity',\n       'dentist_prescription', 'vet_prescription', 'specialist_prescription',\n       'market_authorization_holder_code', 'hospital', 'exception_list',\n       'copay_availability', 'permitted_dosages', 'daily_dosage', 'strength',\n       'strength_unit', 'amount', 'amount_unit', 'total_amount',\n       'therapy_instructions', 'shelf_life', 'comparable_currency',\n       'copay_group'],\n      dtype='object')"
    },
    "metadata": {},
    "execution_count": 218,
    "output_type": "execute_result"
}
],
            "execution_count": 214
        },
        {
            "cell_type": "code",
            "source": [
                "data.to_csv(\"output.txt\")"
            ],
            "metadata": {
                "azdata_cell_guid": "257d9568-95c9-4a1d-bc9e-87b6f98dfce4"
            },
            "outputs": [],
            "execution_count": 215
        }
    ]
}